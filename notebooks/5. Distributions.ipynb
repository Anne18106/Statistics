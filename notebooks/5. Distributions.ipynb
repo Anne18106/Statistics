{
 "cells": [
  {
   "cell_type": "markdown",
   "metadata": {},
   "source": [
    "Talk about:\n",
    "\n",
    "* Central Limit Theorem\n",
    "* Normal Distribution\n",
    "* 6 sigma"
   ]
  },
  {
   "cell_type": "markdown",
   "metadata": {},
   "source": [
    "#### Outliers"
   ]
  },
  {
   "cell_type": "code",
   "execution_count": 220,
   "metadata": {
    "collapsed": false
   },
   "outputs": [
    {
     "name": "stdout",
     "output_type": "stream",
     "text": [
      "329.759854142 41.1731669801\n"
     ]
    }
   ],
   "source": [
    "prices_mean = prices_pd.HighQ.mean()\n",
    "prices_std = prices_pd.HighQ.std()\n",
    "\n",
    "print prices_mean, prices_std"
   ]
  },
  {
   "cell_type": "code",
   "execution_count": 229,
   "metadata": {
    "collapsed": false
   },
   "outputs": [
    {
     "data": {
      "text/html": [
       "<div>\n",
       "<table border=\"1\" class=\"dataframe\">\n",
       "  <thead>\n",
       "    <tr style=\"text-align: right;\">\n",
       "      <th></th>\n",
       "      <th>State</th>\n",
       "      <th>HighQ</th>\n",
       "      <th>HighQN</th>\n",
       "      <th>MedQ</th>\n",
       "      <th>MedQN</th>\n",
       "      <th>LowQ</th>\n",
       "      <th>LowQN</th>\n",
       "      <th>date</th>\n",
       "    </tr>\n",
       "  </thead>\n",
       "  <tbody>\n",
       "  </tbody>\n",
       "</table>\n",
       "</div>"
      ],
      "text/plain": [
       "Empty DataFrame\n",
       "Columns: [State, HighQ, HighQN, MedQ, MedQN, LowQ, LowQN, date]\n",
       "Index: []"
      ]
     },
     "execution_count": 229,
     "metadata": {},
     "output_type": "execute_result"
    }
   ],
   "source": [
    "prices_pd[(prices_pd.HighQ > (prices_mean + (3.0 * prices_std)))].head()"
   ]
  },
  {
   "cell_type": "code",
   "execution_count": 230,
   "metadata": {
    "collapsed": false,
    "scrolled": true
   },
   "outputs": [
    {
     "data": {
      "text/html": [
       "<div>\n",
       "<table border=\"1\" class=\"dataframe\">\n",
       "  <thead>\n",
       "    <tr style=\"text-align: right;\">\n",
       "      <th></th>\n",
       "      <th>State</th>\n",
       "      <th>HighQ</th>\n",
       "      <th>HighQN</th>\n",
       "      <th>MedQ</th>\n",
       "      <th>MedQN</th>\n",
       "      <th>LowQ</th>\n",
       "      <th>LowQN</th>\n",
       "      <th>date</th>\n",
       "    </tr>\n",
       "  </thead>\n",
       "  <tbody>\n",
       "    <tr>\n",
       "      <th>15127</th>\n",
       "      <td>Oregon</td>\n",
       "      <td>206.22</td>\n",
       "      <td>2161</td>\n",
       "      <td>181.28</td>\n",
       "      <td>1996</td>\n",
       "      <td>177.42</td>\n",
       "      <td>91</td>\n",
       "      <td>2014-12-20</td>\n",
       "    </tr>\n",
       "    <tr>\n",
       "      <th>15841</th>\n",
       "      <td>Oregon</td>\n",
       "      <td>206.17</td>\n",
       "      <td>2162</td>\n",
       "      <td>181.28</td>\n",
       "      <td>1996</td>\n",
       "      <td>177.42</td>\n",
       "      <td>92</td>\n",
       "      <td>2014-12-21</td>\n",
       "    </tr>\n",
       "    <tr>\n",
       "      <th>16555</th>\n",
       "      <td>Oregon</td>\n",
       "      <td>206.09</td>\n",
       "      <td>2164</td>\n",
       "      <td>181.33</td>\n",
       "      <td>1998</td>\n",
       "      <td>177.42</td>\n",
       "      <td>92</td>\n",
       "      <td>2014-12-22</td>\n",
       "    </tr>\n",
       "    <tr>\n",
       "      <th>17269</th>\n",
       "      <td>Oregon</td>\n",
       "      <td>206.06</td>\n",
       "      <td>2165</td>\n",
       "      <td>181.27</td>\n",
       "      <td>1999</td>\n",
       "      <td>177.42</td>\n",
       "      <td>92</td>\n",
       "      <td>2014-12-23</td>\n",
       "    </tr>\n",
       "    <tr>\n",
       "      <th>17983</th>\n",
       "      <td>Oregon</td>\n",
       "      <td>206.04</td>\n",
       "      <td>2166</td>\n",
       "      <td>181.27</td>\n",
       "      <td>2001</td>\n",
       "      <td>177.42</td>\n",
       "      <td>92</td>\n",
       "      <td>2014-12-24</td>\n",
       "    </tr>\n",
       "  </tbody>\n",
       "</table>\n",
       "</div>"
      ],
      "text/plain": [
       "        State   HighQ  HighQN    MedQ  MedQN    LowQ  LowQN       date\n",
       "15127  Oregon  206.22    2161  181.28   1996  177.42     91 2014-12-20\n",
       "15841  Oregon  206.17    2162  181.28   1996  177.42     92 2014-12-21\n",
       "16555  Oregon  206.09    2164  181.33   1998  177.42     92 2014-12-22\n",
       "17269  Oregon  206.06    2165  181.27   1999  177.42     92 2014-12-23\n",
       "17983  Oregon  206.04    2166  181.27   2001  177.42     92 2014-12-24"
      ]
     },
     "execution_count": 230,
     "metadata": {},
     "output_type": "execute_result"
    }
   ],
   "source": [
    "prices_pd[(prices_pd.HighQ < (prices_mean - (3.0 * prices_std)))].head()"
   ]
  },
  {
   "cell_type": "code",
   "execution_count": 231,
   "metadata": {
    "collapsed": false
   },
   "outputs": [
    {
     "data": {
      "text/plain": [
       "State     92\n",
       "HighQ     92\n",
       "HighQN    92\n",
       "MedQ      92\n",
       "MedQN     92\n",
       "LowQ      92\n",
       "LowQN     92\n",
       "date      92\n",
       "dtype: int64"
      ]
     },
     "execution_count": 231,
     "metadata": {},
     "output_type": "execute_result"
    }
   ],
   "source": [
    "prices_pd[(prices_pd.HighQ < (prices_mean - (3.0 * prices_std)))].count()"
   ]
  },
  {
   "cell_type": "markdown",
   "metadata": {},
   "source": [
    "## To Do outlier plot"
   ]
  },
  {
   "cell_type": "markdown",
   "metadata": {},
   "source": [
    "## To Do box plot"
   ]
  },
  {
   "cell_type": "markdown",
   "metadata": {},
   "source": [
    "## Add quantile(0.7)"
   ]
  },
  {
   "cell_type": "code",
   "execution_count": 234,
   "metadata": {
    "collapsed": false
   },
   "outputs": [
    {
     "data": {
      "text/html": [
       "<div>\n",
       "<table border=\"1\" class=\"dataframe\">\n",
       "  <thead>\n",
       "    <tr style=\"text-align: right;\">\n",
       "      <th></th>\n",
       "      <th>State</th>\n",
       "      <th>HighQ</th>\n",
       "      <th>HighQN</th>\n",
       "      <th>MedQ</th>\n",
       "      <th>MedQN</th>\n",
       "      <th>LowQ</th>\n",
       "      <th>LowQN</th>\n",
       "      <th>date</th>\n",
       "    </tr>\n",
       "  </thead>\n",
       "  <tbody>\n",
       "    <tr>\n",
       "      <th>20126</th>\n",
       "      <td>Maryland</td>\n",
       "      <td>380.08</td>\n",
       "      <td>1954</td>\n",
       "      <td>248.50</td>\n",
       "      <td>1534</td>\n",
       "      <td>197.82</td>\n",
       "      <td>150</td>\n",
       "      <td>2013-12-27</td>\n",
       "    </tr>\n",
       "    <tr>\n",
       "      <th>20891</th>\n",
       "      <td>Maryland</td>\n",
       "      <td>380.08</td>\n",
       "      <td>1954</td>\n",
       "      <td>248.53</td>\n",
       "      <td>1535</td>\n",
       "      <td>197.82</td>\n",
       "      <td>150</td>\n",
       "      <td>2013-12-28</td>\n",
       "    </tr>\n",
       "    <tr>\n",
       "      <th>21605</th>\n",
       "      <td>Maryland</td>\n",
       "      <td>380.03</td>\n",
       "      <td>1957</td>\n",
       "      <td>248.67</td>\n",
       "      <td>1538</td>\n",
       "      <td>197.16</td>\n",
       "      <td>151</td>\n",
       "      <td>2013-12-29</td>\n",
       "    </tr>\n",
       "    <tr>\n",
       "      <th>22319</th>\n",
       "      <td>Maryland</td>\n",
       "      <td>379.91</td>\n",
       "      <td>1959</td>\n",
       "      <td>248.79</td>\n",
       "      <td>1539</td>\n",
       "      <td>196.59</td>\n",
       "      <td>152</td>\n",
       "      <td>2013-12-30</td>\n",
       "    </tr>\n",
       "    <tr>\n",
       "      <th>22829</th>\n",
       "      <td>Maryland</td>\n",
       "      <td>380.07</td>\n",
       "      <td>1962</td>\n",
       "      <td>248.69</td>\n",
       "      <td>1542</td>\n",
       "      <td>196.59</td>\n",
       "      <td>152</td>\n",
       "      <td>2013-12-31</td>\n",
       "    </tr>\n",
       "  </tbody>\n",
       "</table>\n",
       "</div>"
      ],
      "text/plain": [
       "          State   HighQ  HighQN    MedQ  MedQN    LowQ  LowQN       date\n",
       "20126  Maryland  380.08    1954  248.50   1534  197.82    150 2013-12-27\n",
       "20891  Maryland  380.08    1954  248.53   1535  197.82    150 2013-12-28\n",
       "21605  Maryland  380.03    1957  248.67   1538  197.16    151 2013-12-29\n",
       "22319  Maryland  379.91    1959  248.79   1539  196.59    152 2013-12-30\n",
       "22829  Maryland  380.07    1962  248.69   1542  196.59    152 2013-12-31"
      ]
     },
     "execution_count": 234,
     "metadata": {},
     "output_type": "execute_result"
    }
   ],
   "source": [
    "maryland_pd = prices_pd[prices_pd[\"State\"] == \"Maryland\"].copy(True)\n",
    "maryland_pd.head()"
   ]
  },
  {
   "cell_type": "code",
   "execution_count": 245,
   "metadata": {
    "collapsed": false
   },
   "outputs": [],
   "source": [
    "legalize_date = dt(2014,10,1)\n",
    "maryland_before_pd = maryland_pd.ix[(maryland_pd[\"date\"] > dt(2014,7,1)) & (maryland_pd[\"date\"] < legalize_date)]\n",
    "maryland_after_pd = maryland_pd.ix[(maryland_pd[\"date\"] < dt(2014,12,31)) & (maryland_pd[\"date\"] > legalize_date)]"
   ]
  },
  {
   "cell_type": "code",
   "execution_count": 247,
   "metadata": {
    "collapsed": false
   },
   "outputs": [
    {
     "data": {
      "text/html": [
       "<div>\n",
       "<table border=\"1\" class=\"dataframe\">\n",
       "  <thead>\n",
       "    <tr style=\"text-align: right;\">\n",
       "      <th></th>\n",
       "      <th>State</th>\n",
       "      <th>HighQ</th>\n",
       "      <th>HighQN</th>\n",
       "      <th>MedQ</th>\n",
       "      <th>MedQN</th>\n",
       "      <th>LowQ</th>\n",
       "      <th>LowQN</th>\n",
       "      <th>date</th>\n",
       "    </tr>\n",
       "  </thead>\n",
       "  <tbody>\n",
       "    <tr>\n",
       "      <th>1256</th>\n",
       "      <td>Maryland</td>\n",
       "      <td>371.10</td>\n",
       "      <td>2446</td>\n",
       "      <td>250.70</td>\n",
       "      <td>2006</td>\n",
       "      <td>187.53</td>\n",
       "      <td>178</td>\n",
       "      <td>2014-07-02</td>\n",
       "    </tr>\n",
       "    <tr>\n",
       "      <th>1970</th>\n",
       "      <td>Maryland</td>\n",
       "      <td>371.01</td>\n",
       "      <td>2448</td>\n",
       "      <td>250.69</td>\n",
       "      <td>2009</td>\n",
       "      <td>187.53</td>\n",
       "      <td>178</td>\n",
       "      <td>2014-07-03</td>\n",
       "    </tr>\n",
       "    <tr>\n",
       "      <th>2735</th>\n",
       "      <td>Maryland</td>\n",
       "      <td>371.01</td>\n",
       "      <td>2448</td>\n",
       "      <td>250.83</td>\n",
       "      <td>2013</td>\n",
       "      <td>187.53</td>\n",
       "      <td>178</td>\n",
       "      <td>2014-07-04</td>\n",
       "    </tr>\n",
       "    <tr>\n",
       "      <th>3500</th>\n",
       "      <td>Maryland</td>\n",
       "      <td>371.01</td>\n",
       "      <td>2448</td>\n",
       "      <td>250.97</td>\n",
       "      <td>2015</td>\n",
       "      <td>187.53</td>\n",
       "      <td>178</td>\n",
       "      <td>2014-07-05</td>\n",
       "    </tr>\n",
       "    <tr>\n",
       "      <th>4265</th>\n",
       "      <td>Maryland</td>\n",
       "      <td>371.09</td>\n",
       "      <td>2451</td>\n",
       "      <td>250.85</td>\n",
       "      <td>2018</td>\n",
       "      <td>187.53</td>\n",
       "      <td>178</td>\n",
       "      <td>2014-07-06</td>\n",
       "    </tr>\n",
       "  </tbody>\n",
       "</table>\n",
       "</div>"
      ],
      "text/plain": [
       "         State   HighQ  HighQN    MedQ  MedQN    LowQ  LowQN       date\n",
       "1256  Maryland  371.10    2446  250.70   2006  187.53    178 2014-07-02\n",
       "1970  Maryland  371.01    2448  250.69   2009  187.53    178 2014-07-03\n",
       "2735  Maryland  371.01    2448  250.83   2013  187.53    178 2014-07-04\n",
       "3500  Maryland  371.01    2448  250.97   2015  187.53    178 2014-07-05\n",
       "4265  Maryland  371.09    2451  250.85   2018  187.53    178 2014-07-06"
      ]
     },
     "execution_count": 247,
     "metadata": {},
     "output_type": "execute_result"
    }
   ],
   "source": [
    "maryland_before_pd.head()"
   ]
  },
  {
   "cell_type": "code",
   "execution_count": 249,
   "metadata": {
    "collapsed": false
   },
   "outputs": [
    {
     "data": {
      "text/html": [
       "<div>\n",
       "<table border=\"1\" class=\"dataframe\">\n",
       "  <thead>\n",
       "    <tr style=\"text-align: right;\">\n",
       "      <th></th>\n",
       "      <th>State</th>\n",
       "      <th>HighQ</th>\n",
       "      <th>HighQN</th>\n",
       "      <th>MedQ</th>\n",
       "      <th>MedQN</th>\n",
       "      <th>LowQ</th>\n",
       "      <th>LowQN</th>\n",
       "      <th>date</th>\n",
       "    </tr>\n",
       "  </thead>\n",
       "  <tbody>\n",
       "    <tr>\n",
       "      <th>1358</th>\n",
       "      <td>Maryland</td>\n",
       "      <td>369.67</td>\n",
       "      <td>2615</td>\n",
       "      <td>253.31</td>\n",
       "      <td>2218</td>\n",
       "      <td>187.01</td>\n",
       "      <td>185</td>\n",
       "      <td>2014-10-02</td>\n",
       "    </tr>\n",
       "    <tr>\n",
       "      <th>2123</th>\n",
       "      <td>Maryland</td>\n",
       "      <td>369.66</td>\n",
       "      <td>2619</td>\n",
       "      <td>253.31</td>\n",
       "      <td>2218</td>\n",
       "      <td>187.01</td>\n",
       "      <td>185</td>\n",
       "      <td>2014-10-03</td>\n",
       "    </tr>\n",
       "    <tr>\n",
       "      <th>2888</th>\n",
       "      <td>Maryland</td>\n",
       "      <td>369.56</td>\n",
       "      <td>2621</td>\n",
       "      <td>253.20</td>\n",
       "      <td>2219</td>\n",
       "      <td>187.01</td>\n",
       "      <td>185</td>\n",
       "      <td>2014-10-04</td>\n",
       "    </tr>\n",
       "    <tr>\n",
       "      <th>3653</th>\n",
       "      <td>Maryland</td>\n",
       "      <td>369.45</td>\n",
       "      <td>2624</td>\n",
       "      <td>253.20</td>\n",
       "      <td>2219</td>\n",
       "      <td>187.01</td>\n",
       "      <td>185</td>\n",
       "      <td>2014-10-05</td>\n",
       "    </tr>\n",
       "    <tr>\n",
       "      <th>4418</th>\n",
       "      <td>Maryland</td>\n",
       "      <td>369.50</td>\n",
       "      <td>2626</td>\n",
       "      <td>253.29</td>\n",
       "      <td>2223</td>\n",
       "      <td>187.01</td>\n",
       "      <td>185</td>\n",
       "      <td>2014-10-06</td>\n",
       "    </tr>\n",
       "  </tbody>\n",
       "</table>\n",
       "</div>"
      ],
      "text/plain": [
       "         State   HighQ  HighQN    MedQ  MedQN    LowQ  LowQN       date\n",
       "1358  Maryland  369.67    2615  253.31   2218  187.01    185 2014-10-02\n",
       "2123  Maryland  369.66    2619  253.31   2218  187.01    185 2014-10-03\n",
       "2888  Maryland  369.56    2621  253.20   2219  187.01    185 2014-10-04\n",
       "3653  Maryland  369.45    2624  253.20   2219  187.01    185 2014-10-05\n",
       "4418  Maryland  369.50    2626  253.29   2223  187.01    185 2014-10-06"
      ]
     },
     "execution_count": 249,
     "metadata": {},
     "output_type": "execute_result"
    }
   ],
   "source": [
    "maryland_after_pd.head()"
   ]
  },
  {
   "cell_type": "code",
   "execution_count": 268,
   "metadata": {
    "collapsed": false
   },
   "outputs": [
    {
     "data": {
      "text/plain": [
       "Ttest_indResult(statistic=19.687152846004878, pvalue=1.4866967905819766e-46)"
      ]
     },
     "execution_count": 268,
     "metadata": {},
     "output_type": "execute_result"
    }
   ],
   "source": [
    "stats.ttest_ind(maryland_before_pd.HighQ, maryland_after_pd.HighQ)"
   ]
  },
  {
   "cell_type": "code",
   "execution_count": 259,
   "metadata": {
    "collapsed": true
   },
   "outputs": [],
   "source": [
    "np.random.seed(12345678)"
   ]
  },
  {
   "cell_type": "code",
   "execution_count": 260,
   "metadata": {
    "collapsed": false
   },
   "outputs": [
    {
     "data": {
      "text/plain": [
       "Ttest_indResult(statistic=0.26833823296238857, pvalue=0.78849452749501059)"
      ]
     },
     "execution_count": 260,
     "metadata": {},
     "output_type": "execute_result"
    }
   ],
   "source": [
    "rvs1 = stats.norm.rvs(loc=5,scale=10,size=500)\n",
    "rvs2 = stats.norm.rvs(loc=5,scale=10,size=500)\n",
    "stats.ttest_ind(rvs1,rvs2)\n",
    "\n",
    "stats.ttest_ind(rvs1,rvs2, equal_var = False)\n"
   ]
  },
  {
   "cell_type": "code",
   "execution_count": null,
   "metadata": {
    "collapsed": true
   },
   "outputs": [],
   "source": [
    "stats.ttest_ind_from_stats"
   ]
  }
 ],
 "metadata": {
  "kernelspec": {
   "display_name": "Python 2",
   "language": "python",
   "name": "python2"
  },
  "language_info": {
   "codemirror_mode": {
    "name": "ipython",
    "version": 2
   },
   "file_extension": ".py",
   "mimetype": "text/x-python",
   "name": "python",
   "nbconvert_exporter": "python",
   "pygments_lexer": "ipython2",
   "version": "2.7.10"
  }
 },
 "nbformat": 4,
 "nbformat_minor": 0
}
