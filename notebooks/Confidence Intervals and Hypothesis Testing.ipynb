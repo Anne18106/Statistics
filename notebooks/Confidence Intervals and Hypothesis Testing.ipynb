{
 "cells": [
  {
   "cell_type": "markdown",
   "metadata": {},
   "source": [
    "<h3> Basic summarization of the Data </h3>"
   ]
  },
  {
   "cell_type": "code",
   "execution_count": 294,
   "metadata": {
    "collapsed": true
   },
   "outputs": [],
   "source": [
    "import numpy as np\n",
    "import pandas as pd\n",
    "import matplotlib"
   ]
  },
  {
   "cell_type": "code",
   "execution_count": 295,
   "metadata": {
    "collapsed": false
   },
   "outputs": [],
   "source": [
    "pop_state = pd.read_csv('Population_State.csv')"
   ]
  },
  {
   "cell_type": "code",
   "execution_count": 296,
   "metadata": {
    "collapsed": false
   },
   "outputs": [
    {
     "data": {
      "text/plain": [
       "(51, 2)"
      ]
     },
     "execution_count": 296,
     "metadata": {},
     "output_type": "execute_result"
    }
   ],
   "source": [
    "pop_state.shape"
   ]
  },
  {
   "cell_type": "code",
   "execution_count": 297,
   "metadata": {
    "collapsed": false
   },
   "outputs": [
    {
     "data": {
      "text/html": [
       "<div style=\"max-height:1000px;max-width:1500px;overflow:auto;\">\n",
       "<table border=\"1\" class=\"dataframe\">\n",
       "  <thead>\n",
       "    <tr style=\"text-align: right;\">\n",
       "      <th></th>\n",
       "      <th>region</th>\n",
       "      <th>value</th>\n",
       "    </tr>\n",
       "  </thead>\n",
       "  <tbody>\n",
       "    <tr>\n",
       "      <th>0</th>\n",
       "      <td>alabama</td>\n",
       "      <td>4777326</td>\n",
       "    </tr>\n",
       "    <tr>\n",
       "      <th>1</th>\n",
       "      <td>alaska</td>\n",
       "      <td>711139</td>\n",
       "    </tr>\n",
       "    <tr>\n",
       "      <th>2</th>\n",
       "      <td>arizona</td>\n",
       "      <td>6410979</td>\n",
       "    </tr>\n",
       "    <tr>\n",
       "      <th>3</th>\n",
       "      <td>arkansas</td>\n",
       "      <td>2916372</td>\n",
       "    </tr>\n",
       "    <tr>\n",
       "      <th>4</th>\n",
       "      <td>california</td>\n",
       "      <td>37325068</td>\n",
       "    </tr>\n",
       "  </tbody>\n",
       "</table>\n",
       "</div>"
      ],
      "text/plain": [
       "       region     value\n",
       "0     alabama   4777326\n",
       "1      alaska    711139\n",
       "2     arizona   6410979\n",
       "3    arkansas   2916372\n",
       "4  california  37325068"
      ]
     },
     "execution_count": 297,
     "metadata": {},
     "output_type": "execute_result"
    }
   ],
   "source": [
    "pop_state.head()"
   ]
  },
  {
   "cell_type": "code",
   "execution_count": 298,
   "metadata": {
    "collapsed": false
   },
   "outputs": [
    {
     "name": "stdout",
     "output_type": "stream",
     "text": [
      "<class 'pandas.core.frame.DataFrame'>\n",
      "Int64Index: 51 entries, 0 to 50\n",
      "Data columns (total 2 columns):\n",
      "region    51 non-null object\n",
      "value     51 non-null int64\n",
      "dtypes: int64(1), object(1)\n",
      "memory usage: 1.2+ KB\n"
     ]
    }
   ],
   "source": [
    "pop_state.info()"
   ]
  },
  {
   "cell_type": "code",
   "execution_count": 299,
   "metadata": {
    "collapsed": true
   },
   "outputs": [],
   "source": [
    "dem_state = pd.read_csv('Demographics_State.csv')"
   ]
  },
  {
   "cell_type": "code",
   "execution_count": 300,
   "metadata": {
    "collapsed": false
   },
   "outputs": [
    {
     "data": {
      "text/plain": [
       "(51, 9)"
      ]
     },
     "execution_count": 300,
     "metadata": {},
     "output_type": "execute_result"
    }
   ],
   "source": [
    "dem_state.shape"
   ]
  },
  {
   "cell_type": "code",
   "execution_count": 301,
   "metadata": {
    "collapsed": false
   },
   "outputs": [
    {
     "name": "stdout",
     "output_type": "stream",
     "text": [
      "<class 'pandas.core.frame.DataFrame'>\n",
      "Int64Index: 51 entries, 0 to 50\n",
      "Data columns (total 9 columns):\n",
      "region               51 non-null object\n",
      "total_population     51 non-null int64\n",
      "percent_white        51 non-null int64\n",
      "percent_black        51 non-null int64\n",
      "percent_asian        51 non-null int64\n",
      "percent_hispanic     51 non-null int64\n",
      "per_capita_income    51 non-null int64\n",
      "median_rent          51 non-null int64\n",
      "median_age           51 non-null float64\n",
      "dtypes: float64(1), int64(7), object(1)\n",
      "memory usage: 4.0+ KB\n"
     ]
    }
   ],
   "source": [
    "dem_state.info()"
   ]
  },
  {
   "cell_type": "markdown",
   "metadata": {
    "collapsed": true
   },
   "source": [
    "<h1>Central Limit Theorem</h1>"
   ]
  },
  {
   "cell_type": "markdown",
   "metadata": {},
   "source": [
    "Given a distribution with a mean u and variance sigma^2, the sampling distribution of the mean approaches a normal distribution with a mean u and variance sigma^2/N as the sample size increases."
   ]
  },
  {
   "cell_type": "markdown",
   "metadata": {},
   "source": [
    "<h3> Estimating the population parameters of USA based on the states data </h3>"
   ]
  },
  {
   "cell_type": "code",
   "execution_count": 302,
   "metadata": {
    "collapsed": false
   },
   "outputs": [
    {
     "data": {
      "text/html": [
       "<div style=\"max-height:1000px;max-width:1500px;overflow:auto;\">\n",
       "<table border=\"1\" class=\"dataframe\">\n",
       "  <thead>\n",
       "    <tr style=\"text-align: right;\">\n",
       "      <th></th>\n",
       "      <th>value</th>\n",
       "    </tr>\n",
       "  </thead>\n",
       "  <tbody>\n",
       "    <tr>\n",
       "      <th>count</th>\n",
       "      <td>51.000000</td>\n",
       "    </tr>\n",
       "    <tr>\n",
       "      <th>mean</th>\n",
       "      <td>6061543.352941</td>\n",
       "    </tr>\n",
       "    <tr>\n",
       "      <th>std</th>\n",
       "      <td>6838088.582209</td>\n",
       "    </tr>\n",
       "    <tr>\n",
       "      <th>min</th>\n",
       "      <td>562803.000000</td>\n",
       "    </tr>\n",
       "    <tr>\n",
       "      <th>25%</th>\n",
       "      <td>1697554.500000</td>\n",
       "    </tr>\n",
       "    <tr>\n",
       "      <th>50%</th>\n",
       "      <td>4340167.000000</td>\n",
       "    </tr>\n",
       "    <tr>\n",
       "      <th>75%</th>\n",
       "      <td>6649654.500000</td>\n",
       "    </tr>\n",
       "    <tr>\n",
       "      <th>max</th>\n",
       "      <td>37325068.000000</td>\n",
       "    </tr>\n",
       "  </tbody>\n",
       "</table>\n",
       "</div>"
      ],
      "text/plain": [
       "                 value\n",
       "count        51.000000\n",
       "mean    6061543.352941\n",
       "std     6838088.582209\n",
       "min      562803.000000\n",
       "25%     1697554.500000\n",
       "50%     4340167.000000\n",
       "75%     6649654.500000\n",
       "max    37325068.000000"
      ]
     },
     "execution_count": 302,
     "metadata": {},
     "output_type": "execute_result"
    }
   ],
   "source": [
    "pop_state.describe()"
   ]
  },
  {
   "cell_type": "markdown",
   "metadata": {},
   "source": [
    "Example program to illustrate central theorem"
   ]
  },
  {
   "cell_type": "code",
   "execution_count": 337,
   "metadata": {
    "collapsed": false
   },
   "outputs": [],
   "source": [
    "# TODO: Put a visualization for an example or show a demo from some other program online ?"
   ]
  },
  {
   "cell_type": "markdown",
   "metadata": {},
   "source": [
    "<h2> Confidence Intervals </h2>"
   ]
  },
  {
   "cell_type": "markdown",
   "metadata": {},
   "source": [
    "When one can estimate the mean of a population, it is rare to already know its standard deviation. \n",
    "Therefore, the construction of a confidence interval almost always involves the estimation of both μ and σ."
   ]
  },
  {
   "cell_type": "markdown",
   "metadata": {},
   "source": [
    "s divided by the square root of N (N is the sample size) is used as an estimate of σM"
   ]
  },
  {
   "cell_type": "markdown",
   "metadata": {},
   "source": [
    "Let us calculuate the mean and standard deviation for second dataset"
   ]
  },
  {
   "cell_type": "code",
   "execution_count": 303,
   "metadata": {
    "collapsed": true
   },
   "outputs": [],
   "source": [
    "pop_states = pd.read_csv('Population_State.csv')"
   ]
  },
  {
   "cell_type": "code",
   "execution_count": 304,
   "metadata": {
    "collapsed": true
   },
   "outputs": [],
   "source": [
    "d = np.array(pop_states['value']) # todo: change 'value' column name to 'population count'"
   ]
  },
  {
   "cell_type": "code",
   "execution_count": 305,
   "metadata": {
    "collapsed": false
   },
   "outputs": [],
   "source": [
    "demograph_states = pd.read_csv('Demographics_State.csv')"
   ]
  },
  {
   "cell_type": "code",
   "execution_count": 306,
   "metadata": {
    "collapsed": false
   },
   "outputs": [],
   "source": [
    "b = np.array(demograph_states['total_population'])"
   ]
  },
  {
   "cell_type": "code",
   "execution_count": 307,
   "metadata": {
    "collapsed": false
   },
   "outputs": [
    {
     "data": {
      "text/html": [
       "<div style=\"max-height:1000px;max-width:1500px;overflow:auto;\">\n",
       "<table border=\"1\" class=\"dataframe\">\n",
       "  <thead>\n",
       "    <tr style=\"text-align: right;\">\n",
       "      <th></th>\n",
       "      <th>value</th>\n",
       "    </tr>\n",
       "  </thead>\n",
       "  <tbody>\n",
       "    <tr>\n",
       "      <th>count</th>\n",
       "      <td>51.000000</td>\n",
       "    </tr>\n",
       "    <tr>\n",
       "      <th>mean</th>\n",
       "      <td>6061543.352941</td>\n",
       "    </tr>\n",
       "    <tr>\n",
       "      <th>std</th>\n",
       "      <td>6838088.582209</td>\n",
       "    </tr>\n",
       "    <tr>\n",
       "      <th>min</th>\n",
       "      <td>562803.000000</td>\n",
       "    </tr>\n",
       "    <tr>\n",
       "      <th>25%</th>\n",
       "      <td>1697554.500000</td>\n",
       "    </tr>\n",
       "    <tr>\n",
       "      <th>50%</th>\n",
       "      <td>4340167.000000</td>\n",
       "    </tr>\n",
       "    <tr>\n",
       "      <th>75%</th>\n",
       "      <td>6649654.500000</td>\n",
       "    </tr>\n",
       "    <tr>\n",
       "      <th>max</th>\n",
       "      <td>37325068.000000</td>\n",
       "    </tr>\n",
       "  </tbody>\n",
       "</table>\n",
       "</div>"
      ],
      "text/plain": [
       "                 value\n",
       "count        51.000000\n",
       "mean    6061543.352941\n",
       "std     6838088.582209\n",
       "min      562803.000000\n",
       "25%     1697554.500000\n",
       "50%     4340167.000000\n",
       "75%     6649654.500000\n",
       "max    37325068.000000"
      ]
     },
     "execution_count": 307,
     "metadata": {},
     "output_type": "execute_result"
    }
   ],
   "source": [
    "pop_states.describe()"
   ]
  },
  {
   "cell_type": "code",
   "execution_count": 308,
   "metadata": {
    "collapsed": false
   },
   "outputs": [
    {
     "data": {
      "text/html": [
       "<div style=\"max-height:1000px;max-width:1500px;overflow:auto;\">\n",
       "<table border=\"1\" class=\"dataframe\">\n",
       "  <thead>\n",
       "    <tr style=\"text-align: right;\">\n",
       "      <th></th>\n",
       "      <th>total_population</th>\n",
       "      <th>percent_white</th>\n",
       "      <th>percent_black</th>\n",
       "      <th>percent_asian</th>\n",
       "      <th>percent_hispanic</th>\n",
       "      <th>per_capita_income</th>\n",
       "      <th>median_rent</th>\n",
       "      <th>median_age</th>\n",
       "    </tr>\n",
       "  </thead>\n",
       "  <tbody>\n",
       "    <tr>\n",
       "      <th>count</th>\n",
       "      <td>51.000000</td>\n",
       "      <td>51.000000</td>\n",
       "      <td>51.000000</td>\n",
       "      <td>51.000000</td>\n",
       "      <td>51.000000</td>\n",
       "      <td>51.000000</td>\n",
       "      <td>51.000000</td>\n",
       "      <td>51.000000</td>\n",
       "    </tr>\n",
       "    <tr>\n",
       "      <th>mean</th>\n",
       "      <td>6108560.666667</td>\n",
       "      <td>70.254902</td>\n",
       "      <td>10.823529</td>\n",
       "      <td>3.725490</td>\n",
       "      <td>10.803922</td>\n",
       "      <td>28053.803922</td>\n",
       "      <td>719.490196</td>\n",
       "      <td>37.639216</td>\n",
       "    </tr>\n",
       "    <tr>\n",
       "      <th>std</th>\n",
       "      <td>6904016.387730</td>\n",
       "      <td>16.116877</td>\n",
       "      <td>10.867761</td>\n",
       "      <td>5.355664</td>\n",
       "      <td>9.996038</td>\n",
       "      <td>4659.378182</td>\n",
       "      <td>189.820375</td>\n",
       "      <td>2.352367</td>\n",
       "    </tr>\n",
       "    <tr>\n",
       "      <th>min</th>\n",
       "      <td>570134.000000</td>\n",
       "      <td>23.000000</td>\n",
       "      <td>0.000000</td>\n",
       "      <td>1.000000</td>\n",
       "      <td>1.000000</td>\n",
       "      <td>20618.000000</td>\n",
       "      <td>448.000000</td>\n",
       "      <td>29.600000</td>\n",
       "    </tr>\n",
       "    <tr>\n",
       "      <th>25%</th>\n",
       "      <td>1712494.500000</td>\n",
       "      <td>59.500000</td>\n",
       "      <td>3.000000</td>\n",
       "      <td>1.000000</td>\n",
       "      <td>4.500000</td>\n",
       "      <td>24908.500000</td>\n",
       "      <td>566.000000</td>\n",
       "      <td>36.300000</td>\n",
       "    </tr>\n",
       "    <tr>\n",
       "      <th>50%</th>\n",
       "      <td>4361333.000000</td>\n",
       "      <td>74.000000</td>\n",
       "      <td>7.000000</td>\n",
       "      <td>2.000000</td>\n",
       "      <td>8.000000</td>\n",
       "      <td>26824.000000</td>\n",
       "      <td>664.000000</td>\n",
       "      <td>37.600000</td>\n",
       "    </tr>\n",
       "    <tr>\n",
       "      <th>75%</th>\n",
       "      <td>6712318.500000</td>\n",
       "      <td>82.500000</td>\n",
       "      <td>14.500000</td>\n",
       "      <td>4.000000</td>\n",
       "      <td>12.500000</td>\n",
       "      <td>30144.000000</td>\n",
       "      <td>839.000000</td>\n",
       "      <td>38.950000</td>\n",
       "    </tr>\n",
       "    <tr>\n",
       "      <th>max</th>\n",
       "      <td>37659181.000000</td>\n",
       "      <td>94.000000</td>\n",
       "      <td>49.000000</td>\n",
       "      <td>37.000000</td>\n",
       "      <td>47.000000</td>\n",
       "      <td>45290.000000</td>\n",
       "      <td>1220.000000</td>\n",
       "      <td>43.200000</td>\n",
       "    </tr>\n",
       "  </tbody>\n",
       "</table>\n",
       "</div>"
      ],
      "text/plain": [
       "       total_population  percent_white  percent_black  percent_asian  \\\n",
       "count         51.000000      51.000000      51.000000      51.000000   \n",
       "mean     6108560.666667      70.254902      10.823529       3.725490   \n",
       "std      6904016.387730      16.116877      10.867761       5.355664   \n",
       "min       570134.000000      23.000000       0.000000       1.000000   \n",
       "25%      1712494.500000      59.500000       3.000000       1.000000   \n",
       "50%      4361333.000000      74.000000       7.000000       2.000000   \n",
       "75%      6712318.500000      82.500000      14.500000       4.000000   \n",
       "max     37659181.000000      94.000000      49.000000      37.000000   \n",
       "\n",
       "       percent_hispanic  per_capita_income  median_rent  median_age  \n",
       "count         51.000000          51.000000    51.000000   51.000000  \n",
       "mean          10.803922       28053.803922   719.490196   37.639216  \n",
       "std            9.996038        4659.378182   189.820375    2.352367  \n",
       "min            1.000000       20618.000000   448.000000   29.600000  \n",
       "25%            4.500000       24908.500000   566.000000   36.300000  \n",
       "50%            8.000000       26824.000000   664.000000   37.600000  \n",
       "75%           12.500000       30144.000000   839.000000   38.950000  \n",
       "max           47.000000       45290.000000  1220.000000   43.200000  "
      ]
     },
     "execution_count": 308,
     "metadata": {},
     "output_type": "execute_result"
    }
   ],
   "source": [
    "demograph_states.describe()"
   ]
  },
  {
   "cell_type": "markdown",
   "metadata": {},
   "source": [
    "Above comparision of the two datasets us that the sample mean estimate varies from various data sets when estimating the population parameter, in this case the population mean. \n",
    "\n",
    "Confidence intervals give us a way to specify a range within which the estimated population parameter could fall."
   ]
  },
  {
   "cell_type": "markdown",
   "metadata": {},
   "source": [
    "<h2> Calculating Confidence Interval for high quality weed prices for Alaska </h2>"
   ]
  },
  {
   "cell_type": "code",
   "execution_count": 309,
   "metadata": {
    "collapsed": false
   },
   "outputs": [
    {
     "data": {
      "text/plain": [
       "(290.96643984923782, 291.99756905944804)"
      ]
     },
     "execution_count": 309,
     "metadata": {},
     "output_type": "execute_result"
    }
   ],
   "source": [
    "# CI for high quality weed prices for Alaska\n",
    "from scipy import stats\n",
    "from pandas import DataFrame\n",
    "\n",
    "weed_price = DataFrame.from_csv('Weed_Price.csv')\n",
    "df = weed_price.loc['Alaska']\n",
    "\n",
    "nv = df['HighQ']\n",
    "nv\n",
    "\n",
    "N=len(nv)\n",
    "N\n",
    "\n",
    "mean,std=(np.mean(df['HighQ']), np.std(df['HighQ']))\n",
    "mean, std\n",
    "\n",
    "ci=stats.norm.interval(0.95,loc=mean,scale=std/np.sqrt(N))\n",
    "ci"
   ]
  },
  {
   "cell_type": "markdown",
   "metadata": {},
   "source": [
    "<h2> Calculating Confidence Interval for high quality weed prices for Florida </h2>"
   ]
  },
  {
   "cell_type": "code",
   "execution_count": 310,
   "metadata": {
    "collapsed": false
   },
   "outputs": [
    {
     "data": {
      "text/plain": [
       "(302.35844561983299, 302.78217798818491)"
      ]
     },
     "execution_count": 310,
     "metadata": {},
     "output_type": "execute_result"
    }
   ],
   "source": [
    "df = weed_price.loc['Florida']\n",
    "nv = df['HighQ']\n",
    "nv\n",
    "N=len(nv)\n",
    "N\n",
    "mean,std=(np.mean(df['HighQ']),\n",
    "                   np.std(df['HighQ']))\n",
    "mean, std\n",
    "ci=stats.norm.interval(0.95,loc=mean,scale=std/np.sqrt(N))\n",
    "ci"
   ]
  },
  {
   "cell_type": "markdown",
   "metadata": {},
   "source": [
    "<h3> Bootstrapping Confidence Intervals </h3>"
   ]
  },
  {
   "cell_type": "code",
   "execution_count": 311,
   "metadata": {
    "collapsed": false
   },
   "outputs": [],
   "source": [
    "import scikits.bootstrap as bootstrap\n",
    "import scipy"
   ]
  },
  {
   "cell_type": "code",
   "execution_count": 312,
   "metadata": {
    "collapsed": false
   },
   "outputs": [],
   "source": [
    "CIs = bootstrap.ci(data=b, statfunction=scipy.mean)  "
   ]
  },
  {
   "cell_type": "code",
   "execution_count": 313,
   "metadata": {
    "collapsed": false
   },
   "outputs": [
    {
     "data": {
      "text/plain": [
       "array([ 4580812.21568627,  8599414.03921569])"
      ]
     },
     "execution_count": 313,
     "metadata": {},
     "output_type": "execute_result"
    }
   ],
   "source": [
    "CIs"
   ]
  },
  {
   "cell_type": "code",
   "execution_count": 314,
   "metadata": {
    "collapsed": false
   },
   "outputs": [],
   "source": [
    "c = np.array(pop_state['value'])"
   ]
  },
  {
   "cell_type": "code",
   "execution_count": 315,
   "metadata": {
    "collapsed": true
   },
   "outputs": [],
   "source": [
    "CIs_for_pop = bootstrap.ci(data=c, statfunction=scipy.mean)  "
   ]
  },
  {
   "cell_type": "code",
   "execution_count": 316,
   "metadata": {
    "collapsed": false
   },
   "outputs": [
    {
     "data": {
      "text/plain": [
       "array([ 4607019.58823529,  8534988.09803922])"
      ]
     },
     "execution_count": 316,
     "metadata": {},
     "output_type": "execute_result"
    }
   ],
   "source": [
    "CIs_for_pop"
   ]
  },
  {
   "cell_type": "markdown",
   "metadata": {},
   "source": [
    "<h3> Introduction to Z-score </h3>\n",
    "\n",
    "Z-score tells us how far is each observation away from the mean of the dataset.\n",
    "\n",
    "$$z = ({x - μ })/σ $$ \n",
    "\n",
    "\n",
    "* μ is the mean of the population;\n",
    "* σ is the standard deviation of the population. \n",
    "* x is the value of each observation"
   ]
  },
  {
   "cell_type": "code",
   "execution_count": 317,
   "metadata": {
    "collapsed": false
   },
   "outputs": [],
   "source": [
    "a = np.array(pop_state['value'])"
   ]
  },
  {
   "cell_type": "code",
   "execution_count": 318,
   "metadata": {
    "collapsed": false
   },
   "outputs": [
    {
     "data": {
      "text/plain": [
       "array([ 4777326,   711139,  6410979,  2916372, 37325068,  5042853,\n",
       "        3572213,   900131,   605759, 18885152,  9714569,  1362730,\n",
       "        1567803, 12823860,  6485530,  3047646,  2851183,  4340167,\n",
       "        4529605,  1329084,  5785496,  6560595,  9897264,  5313081,\n",
       "        2967620,  5982413,   990785,  1827306,  2704204,  1317474,\n",
       "        8793888,  2055287, 19398125,  9544249,   676253, 11533561,\n",
       "        3749005,  3836628, 12699589,  1052471,  4630351,   815871,\n",
       "        6353226, 25208897,  2766233,   625498,  8014955,  6738714,\n",
       "        1850481,  5687219,   562803])"
      ]
     },
     "execution_count": 318,
     "metadata": {},
     "output_type": "execute_result"
    }
   ],
   "source": [
    "a"
   ]
  },
  {
   "cell_type": "markdown",
   "metadata": {},
   "source": [
    "* We know from summary statistics above, that the mean for this is: 6061543.352941\n",
    "* Suppose, we want to know to z-score of the observation for ALABAMA, WEST VIRGINIA, CALIFORNIA "
   ]
  },
  {
   "cell_type": "markdown",
   "metadata": {},
   "source": [
    "Z-score for this can be obtained using indexes on array for each state as shown below:"
   ]
  },
  {
   "cell_type": "code",
   "execution_count": 319,
   "metadata": {
    "collapsed": false
   },
   "outputs": [],
   "source": [
    "from scipy import stats\n",
    "zscore_array = stats.zscore(a)"
   ]
  },
  {
   "cell_type": "code",
   "execution_count": 320,
   "metadata": {
    "collapsed": false
   },
   "outputs": [
    {
     "data": {
      "text/plain": [
       "-0.18967229426808219"
      ]
     },
     "execution_count": 320,
     "metadata": {},
     "output_type": "execute_result"
    }
   ],
   "source": [
    "zscore_array[0]"
   ]
  },
  {
   "cell_type": "code",
   "execution_count": 321,
   "metadata": {
    "collapsed": false
   },
   "outputs": [
    {
     "data": {
      "text/plain": [
       "-0.81213565284583833"
      ]
     },
     "execution_count": 321,
     "metadata": {},
     "output_type": "execute_result"
    }
   ],
   "source": [
    "zscore_array[50]"
   ]
  },
  {
   "cell_type": "code",
   "execution_count": 322,
   "metadata": {
    "collapsed": false
   },
   "outputs": [
    {
     "data": {
      "text/plain": [
       "4.6174617039192078"
      ]
     },
     "execution_count": 322,
     "metadata": {},
     "output_type": "execute_result"
    }
   ],
   "source": [
    "zscore_array[4]"
   ]
  },
  {
   "cell_type": "markdown",
   "metadata": {},
   "source": [
    "<h2> A/B testing: Impact of regulation and deregulation on a couple of states </h2>\n",
    "\n",
    "   * In A/B Testing you check two groups and see if there are any differences\n",
    "   * Determine if the difference is statistically significant\n"
   ]
  },
  {
   "cell_type": "code",
   "execution_count": 323,
   "metadata": {
    "collapsed": true
   },
   "outputs": [],
   "source": [
    "weed_prices = pd.read_csv('Weed_Price.csv')"
   ]
  },
  {
   "cell_type": "code",
   "execution_count": 341,
   "metadata": {
    "collapsed": false
   },
   "outputs": [
    {
     "data": {
      "text/html": [
       "<div style=\"max-height:1000px;max-width:1500px;overflow:auto;\">\n",
       "<table border=\"1\" class=\"dataframe\">\n",
       "  <thead>\n",
       "    <tr style=\"text-align: right;\">\n",
       "      <th></th>\n",
       "      <th>HighQ</th>\n",
       "      <th>HighQN</th>\n",
       "      <th>MedQ</th>\n",
       "      <th>MedQN</th>\n",
       "      <th>LowQ</th>\n",
       "      <th>LowQN</th>\n",
       "    </tr>\n",
       "  </thead>\n",
       "  <tbody>\n",
       "    <tr>\n",
       "      <th>count</th>\n",
       "      <td>309.000000</td>\n",
       "      <td>309.000000</td>\n",
       "      <td>309.000000</td>\n",
       "      <td>309.000000</td>\n",
       "      <td>242.000000</td>\n",
       "      <td>309.000000</td>\n",
       "    </tr>\n",
       "    <tr>\n",
       "      <th>mean</th>\n",
       "      <td>288.561456</td>\n",
       "      <td>302.864078</td>\n",
       "      <td>259.331036</td>\n",
       "      <td>368.831715</td>\n",
       "      <td>387.232727</td>\n",
       "      <td>29.841424</td>\n",
       "    </tr>\n",
       "    <tr>\n",
       "      <th>std</th>\n",
       "      <td>2.078002</td>\n",
       "      <td>25.247238</td>\n",
       "      <td>3.337891</td>\n",
       "      <td>41.994173</td>\n",
       "      <td>14.260693</td>\n",
       "      <td>3.527825</td>\n",
       "    </tr>\n",
       "    <tr>\n",
       "      <th>min</th>\n",
       "      <td>284.210000</td>\n",
       "      <td>252.000000</td>\n",
       "      <td>251.870000</td>\n",
       "      <td>296.000000</td>\n",
       "      <td>359.870000</td>\n",
       "      <td>26.000000</td>\n",
       "    </tr>\n",
       "    <tr>\n",
       "      <th>25%</th>\n",
       "      <td>287.320000</td>\n",
       "      <td>283.000000</td>\n",
       "      <td>256.510000</td>\n",
       "      <td>336.000000</td>\n",
       "      <td>375.820000</td>\n",
       "      <td>26.000000</td>\n",
       "    </tr>\n",
       "    <tr>\n",
       "      <th>50%</th>\n",
       "      <td>288.700000</td>\n",
       "      <td>307.000000</td>\n",
       "      <td>260.970000</td>\n",
       "      <td>371.000000</td>\n",
       "      <td>388.580000</td>\n",
       "      <td>30.000000</td>\n",
       "    </tr>\n",
       "    <tr>\n",
       "      <th>75%</th>\n",
       "      <td>289.810000</td>\n",
       "      <td>327.000000</td>\n",
       "      <td>261.950000</td>\n",
       "      <td>405.000000</td>\n",
       "      <td>403.330000</td>\n",
       "      <td>33.000000</td>\n",
       "    </tr>\n",
       "    <tr>\n",
       "      <th>max</th>\n",
       "      <td>292.100000</td>\n",
       "      <td>338.000000</td>\n",
       "      <td>263.790000</td>\n",
       "      <td>435.000000</td>\n",
       "      <td>407.310000</td>\n",
       "      <td>37.000000</td>\n",
       "    </tr>\n",
       "  </tbody>\n",
       "</table>\n",
       "</div>"
      ],
      "text/plain": [
       "            HighQ      HighQN        MedQ       MedQN        LowQ       LowQN\n",
       "count  309.000000  309.000000  309.000000  309.000000  242.000000  309.000000\n",
       "mean   288.561456  302.864078  259.331036  368.831715  387.232727   29.841424\n",
       "std      2.078002   25.247238    3.337891   41.994173   14.260693    3.527825\n",
       "min    284.210000  252.000000  251.870000  296.000000  359.870000   26.000000\n",
       "25%    287.320000  283.000000  256.510000  336.000000  375.820000   26.000000\n",
       "50%    288.700000  307.000000  260.970000  371.000000  388.580000   30.000000\n",
       "75%    289.810000  327.000000  261.950000  405.000000  403.330000   33.000000\n",
       "max    292.100000  338.000000  263.790000  435.000000  407.310000   37.000000"
      ]
     },
     "execution_count": 341,
     "metadata": {},
     "output_type": "execute_result"
    }
   ],
   "source": [
    "from pandas import DataFrame\n",
    "df = DataFrame.from_csv('Weed_Price.csv')\n",
    "sf = df.loc['Alaska'][(df.loc['Alaska']['date'] < '2014-11-02') ]\n",
    "sf.describe()\n",
    "\n",
    "# alaska data before november 2014\n",
    "#https://en.wikipedia.org/wiki/Legality_of_cannabis_by_U.S._jurisdiction#.C2.A0Alaska\n",
    "#State = State in US\n",
    "#HighQ = Price for HighQuality Weed\n",
    "#HighQN = Number of people who came on the site and pledged the value for HighQ weed on a given day.\n",
    "\n",
    "#(Alaska prices before deregulation and after de-regulation)"
   ]
  },
  {
   "cell_type": "code",
   "execution_count": 340,
   "metadata": {
    "collapsed": false
   },
   "outputs": [
    {
     "data": {
      "text/html": [
       "<div style=\"max-height:1000px;max-width:1500px;overflow:auto;\">\n",
       "<table border=\"1\" class=\"dataframe\">\n",
       "  <thead>\n",
       "    <tr style=\"text-align: right;\">\n",
       "      <th></th>\n",
       "      <th>HighQ</th>\n",
       "      <th>HighQN</th>\n",
       "      <th>MedQ</th>\n",
       "      <th>MedQN</th>\n",
       "      <th>LowQ</th>\n",
       "      <th>LowQN</th>\n",
       "    </tr>\n",
       "  </thead>\n",
       "  <tbody>\n",
       "    <tr>\n",
       "      <th>count</th>\n",
       "      <td>139.000000</td>\n",
       "      <td>139.000000</td>\n",
       "      <td>139.000000</td>\n",
       "      <td>139.000000</td>\n",
       "      <td>0</td>\n",
       "      <td>139.000000</td>\n",
       "    </tr>\n",
       "    <tr>\n",
       "      <th>mean</th>\n",
       "      <td>297.980719</td>\n",
       "      <td>361.985612</td>\n",
       "      <td>268.081871</td>\n",
       "      <td>494.604317</td>\n",
       "      <td>NaN</td>\n",
       "      <td>37.841727</td>\n",
       "    </tr>\n",
       "    <tr>\n",
       "      <th>std</th>\n",
       "      <td>5.459218</td>\n",
       "      <td>22.675718</td>\n",
       "      <td>3.424556</td>\n",
       "      <td>44.888044</td>\n",
       "      <td>NaN</td>\n",
       "      <td>1.580034</td>\n",
       "    </tr>\n",
       "    <tr>\n",
       "      <th>min</th>\n",
       "      <td>290.270000</td>\n",
       "      <td>338.000000</td>\n",
       "      <td>260.960000</td>\n",
       "      <td>437.000000</td>\n",
       "      <td>NaN</td>\n",
       "      <td>37.000000</td>\n",
       "    </tr>\n",
       "    <tr>\n",
       "      <th>25%</th>\n",
       "      <td>292.840000</td>\n",
       "      <td>347.000000</td>\n",
       "      <td>264.610000</td>\n",
       "      <td>461.500000</td>\n",
       "      <td>NaN</td>\n",
       "      <td>37.000000</td>\n",
       "    </tr>\n",
       "    <tr>\n",
       "      <th>50%</th>\n",
       "      <td>302.820000</td>\n",
       "      <td>352.000000</td>\n",
       "      <td>269.900000</td>\n",
       "      <td>481.000000</td>\n",
       "      <td>NaN</td>\n",
       "      <td>37.000000</td>\n",
       "    </tr>\n",
       "    <tr>\n",
       "      <th>75%</th>\n",
       "      <td>303.020000</td>\n",
       "      <td>363.500000</td>\n",
       "      <td>270.820000</td>\n",
       "      <td>502.000000</td>\n",
       "      <td>NaN</td>\n",
       "      <td>37.000000</td>\n",
       "    </tr>\n",
       "    <tr>\n",
       "      <th>max</th>\n",
       "      <td>303.780000</td>\n",
       "      <td>406.000000</td>\n",
       "      <td>271.500000</td>\n",
       "      <td>576.000000</td>\n",
       "      <td>NaN</td>\n",
       "      <td>41.000000</td>\n",
       "    </tr>\n",
       "  </tbody>\n",
       "</table>\n",
       "</div>"
      ],
      "text/plain": [
       "            HighQ      HighQN        MedQ       MedQN  LowQ       LowQN\n",
       "count  139.000000  139.000000  139.000000  139.000000     0  139.000000\n",
       "mean   297.980719  361.985612  268.081871  494.604317   NaN   37.841727\n",
       "std      5.459218   22.675718    3.424556   44.888044   NaN    1.580034\n",
       "min    290.270000  338.000000  260.960000  437.000000   NaN   37.000000\n",
       "25%    292.840000  347.000000  264.610000  461.500000   NaN   37.000000\n",
       "50%    302.820000  352.000000  269.900000  481.000000   NaN   37.000000\n",
       "75%    303.020000  363.500000  270.820000  502.000000   NaN   37.000000\n",
       "max    303.780000  406.000000  271.500000  576.000000   NaN   41.000000"
      ]
     },
     "execution_count": 340,
     "metadata": {},
     "output_type": "execute_result"
    }
   ],
   "source": [
    "# alaska data after november 2014\n",
    "af = df.loc['Alaska'][(df.loc['Alaska']['date'] > '2014-11-02') ]\n",
    "af.describe()"
   ]
  },
  {
   "cell_type": "code",
   "execution_count": 339,
   "metadata": {
    "collapsed": false
   },
   "outputs": [
    {
     "data": {
      "text/html": [
       "<div style=\"max-height:1000px;max-width:1500px;overflow:auto;\">\n",
       "<table border=\"1\" class=\"dataframe\">\n",
       "  <thead>\n",
       "    <tr style=\"text-align: right;\">\n",
       "      <th></th>\n",
       "      <th>HighQ</th>\n",
       "      <th>HighQN</th>\n",
       "      <th>MedQ</th>\n",
       "      <th>MedQN</th>\n",
       "      <th>LowQ</th>\n",
       "      <th>LowQN</th>\n",
       "    </tr>\n",
       "  </thead>\n",
       "  <tbody>\n",
       "    <tr>\n",
       "      <th>count</th>\n",
       "      <td>311.000000</td>\n",
       "      <td>311.000000</td>\n",
       "      <td>311.000000</td>\n",
       "      <td>311.000000</td>\n",
       "      <td>242.000000</td>\n",
       "      <td>311.000000</td>\n",
       "    </tr>\n",
       "    <tr>\n",
       "      <th>mean</th>\n",
       "      <td>209.933762</td>\n",
       "      <td>1860.012862</td>\n",
       "      <td>185.487781</td>\n",
       "      <td>1600.221865</td>\n",
       "      <td>170.173388</td>\n",
       "      <td>76.209003</td>\n",
       "    </tr>\n",
       "    <tr>\n",
       "      <th>std</th>\n",
       "      <td>1.689441</td>\n",
       "      <td>135.259249</td>\n",
       "      <td>2.385111</td>\n",
       "      <td>155.090563</td>\n",
       "      <td>5.117401</td>\n",
       "      <td>7.706180</td>\n",
       "    </tr>\n",
       "    <tr>\n",
       "      <th>min</th>\n",
       "      <td>207.660000</td>\n",
       "      <td>1606.000000</td>\n",
       "      <td>181.500000</td>\n",
       "      <td>1329.000000</td>\n",
       "      <td>162.910000</td>\n",
       "      <td>61.000000</td>\n",
       "    </tr>\n",
       "    <tr>\n",
       "      <th>25%</th>\n",
       "      <td>208.640000</td>\n",
       "      <td>1754.000000</td>\n",
       "      <td>183.525000</td>\n",
       "      <td>1472.000000</td>\n",
       "      <td>165.750000</td>\n",
       "      <td>70.000000</td>\n",
       "    </tr>\n",
       "    <tr>\n",
       "      <th>50%</th>\n",
       "      <td>209.550000</td>\n",
       "      <td>1853.000000</td>\n",
       "      <td>185.330000</td>\n",
       "      <td>1605.000000</td>\n",
       "      <td>169.420000</td>\n",
       "      <td>77.000000</td>\n",
       "    </tr>\n",
       "    <tr>\n",
       "      <th>75%</th>\n",
       "      <td>211.335000</td>\n",
       "      <td>1988.000000</td>\n",
       "      <td>188.460000</td>\n",
       "      <td>1751.500000</td>\n",
       "      <td>175.200000</td>\n",
       "      <td>82.000000</td>\n",
       "    </tr>\n",
       "    <tr>\n",
       "      <th>max</th>\n",
       "      <td>213.540000</td>\n",
       "      <td>2076.000000</td>\n",
       "      <td>189.150000</td>\n",
       "      <td>1857.000000</td>\n",
       "      <td>178.050000</td>\n",
       "      <td>86.000000</td>\n",
       "    </tr>\n",
       "  </tbody>\n",
       "</table>\n",
       "</div>"
      ],
      "text/plain": [
       "            HighQ       HighQN        MedQ        MedQN        LowQ  \\\n",
       "count  311.000000   311.000000  311.000000   311.000000  242.000000   \n",
       "mean   209.933762  1860.012862  185.487781  1600.221865  170.173388   \n",
       "std      1.689441   135.259249    2.385111   155.090563    5.117401   \n",
       "min    207.660000  1606.000000  181.500000  1329.000000  162.910000   \n",
       "25%    208.640000  1754.000000  183.525000  1472.000000  165.750000   \n",
       "50%    209.550000  1853.000000  185.330000  1605.000000  169.420000   \n",
       "75%    211.335000  1988.000000  188.460000  1751.500000  175.200000   \n",
       "max    213.540000  2076.000000  189.150000  1857.000000  178.050000   \n",
       "\n",
       "            LowQN  \n",
       "count  311.000000  \n",
       "mean    76.209003  \n",
       "std      7.706180  \n",
       "min     61.000000  \n",
       "25%     70.000000  \n",
       "50%     77.000000  \n",
       "75%     82.000000  \n",
       "max     86.000000  "
      ]
     },
     "execution_count": 339,
     "metadata": {},
     "output_type": "execute_result"
    }
   ],
   "source": [
    "# Oregon data before regularization\n",
    "of = df.loc['Oregon'][(df.loc['Oregon']['date'] < '2014-11-04') ]\n",
    "of.describe()"
   ]
  },
  {
   "cell_type": "code",
   "execution_count": 342,
   "metadata": {
    "collapsed": false
   },
   "outputs": [
    {
     "data": {
      "text/html": [
       "<div style=\"max-height:1000px;max-width:1500px;overflow:auto;\">\n",
       "<table border=\"1\" class=\"dataframe\">\n",
       "  <thead>\n",
       "    <tr style=\"text-align: right;\">\n",
       "      <th></th>\n",
       "      <th>HighQ</th>\n",
       "      <th>HighQN</th>\n",
       "      <th>MedQ</th>\n",
       "      <th>MedQN</th>\n",
       "      <th>LowQ</th>\n",
       "      <th>LowQN</th>\n",
       "    </tr>\n",
       "  </thead>\n",
       "  <tbody>\n",
       "    <tr>\n",
       "      <th>count</th>\n",
       "      <td>137.000000</td>\n",
       "      <td>137.000000</td>\n",
       "      <td>137.000000</td>\n",
       "      <td>137.000000</td>\n",
       "      <td>0</td>\n",
       "      <td>137.000000</td>\n",
       "    </tr>\n",
       "    <tr>\n",
       "      <th>mean</th>\n",
       "      <td>205.238905</td>\n",
       "      <td>2250.401460</td>\n",
       "      <td>180.280073</td>\n",
       "      <td>2098.992701</td>\n",
       "      <td>NaN</td>\n",
       "      <td>98.598540</td>\n",
       "    </tr>\n",
       "    <tr>\n",
       "      <th>std</th>\n",
       "      <td>1.727567</td>\n",
       "      <td>148.092998</td>\n",
       "      <td>1.209925</td>\n",
       "      <td>172.594582</td>\n",
       "      <td>NaN</td>\n",
       "      <td>8.583037</td>\n",
       "    </tr>\n",
       "    <tr>\n",
       "      <th>min</th>\n",
       "      <td>202.020000</td>\n",
       "      <td>2083.000000</td>\n",
       "      <td>178.040000</td>\n",
       "      <td>1871.000000</td>\n",
       "      <td>NaN</td>\n",
       "      <td>87.000000</td>\n",
       "    </tr>\n",
       "    <tr>\n",
       "      <th>25%</th>\n",
       "      <td>205.190000</td>\n",
       "      <td>2146.000000</td>\n",
       "      <td>180.270000</td>\n",
       "      <td>1973.000000</td>\n",
       "      <td>NaN</td>\n",
       "      <td>91.000000</td>\n",
       "    </tr>\n",
       "    <tr>\n",
       "      <th>50%</th>\n",
       "      <td>205.570000</td>\n",
       "      <td>2204.000000</td>\n",
       "      <td>180.860000</td>\n",
       "      <td>2049.000000</td>\n",
       "      <td>NaN</td>\n",
       "      <td>98.000000</td>\n",
       "    </tr>\n",
       "    <tr>\n",
       "      <th>75%</th>\n",
       "      <td>206.580000</td>\n",
       "      <td>2253.000000</td>\n",
       "      <td>181.090000</td>\n",
       "      <td>2125.000000</td>\n",
       "      <td>NaN</td>\n",
       "      <td>99.000000</td>\n",
       "    </tr>\n",
       "    <tr>\n",
       "      <th>max</th>\n",
       "      <td>207.470000</td>\n",
       "      <td>2533.000000</td>\n",
       "      <td>181.730000</td>\n",
       "      <td>2406.000000</td>\n",
       "      <td>NaN</td>\n",
       "      <td>113.000000</td>\n",
       "    </tr>\n",
       "  </tbody>\n",
       "</table>\n",
       "</div>"
      ],
      "text/plain": [
       "            HighQ       HighQN        MedQ        MedQN  LowQ       LowQN\n",
       "count  137.000000   137.000000  137.000000   137.000000     0  137.000000\n",
       "mean   205.238905  2250.401460  180.280073  2098.992701   NaN   98.598540\n",
       "std      1.727567   148.092998    1.209925   172.594582   NaN    8.583037\n",
       "min    202.020000  2083.000000  178.040000  1871.000000   NaN   87.000000\n",
       "25%    205.190000  2146.000000  180.270000  1973.000000   NaN   91.000000\n",
       "50%    205.570000  2204.000000  180.860000  2049.000000   NaN   98.000000\n",
       "75%    206.580000  2253.000000  181.090000  2125.000000   NaN   99.000000\n",
       "max    207.470000  2533.000000  181.730000  2406.000000   NaN  113.000000"
      ]
     },
     "execution_count": 342,
     "metadata": {},
     "output_type": "execute_result"
    }
   ],
   "source": [
    "# Oregon data after regularization\n",
    "of = df.loc['Oregon'][(df.loc['Oregon']['date'] > '2014-11-04') ]\n",
    "of.describe()"
   ]
  },
  {
   "cell_type": "code",
   "execution_count": 328,
   "metadata": {
    "collapsed": false
   },
   "outputs": [
    {
     "data": {
      "text/html": [
       "<div style=\"max-height:1000px;max-width:1500px;overflow:auto;\">\n",
       "<table border=\"1\" class=\"dataframe\">\n",
       "  <thead>\n",
       "    <tr style=\"text-align: right;\">\n",
       "      <th></th>\n",
       "      <th>HighQ</th>\n",
       "      <th>HighQN</th>\n",
       "      <th>MedQ</th>\n",
       "      <th>MedQN</th>\n",
       "      <th>LowQ</th>\n",
       "      <th>LowQN</th>\n",
       "    </tr>\n",
       "  </thead>\n",
       "  <tbody>\n",
       "    <tr>\n",
       "      <th>count</th>\n",
       "      <td>311.000000</td>\n",
       "      <td>311.000000</td>\n",
       "      <td>311.000000</td>\n",
       "      <td>311.000000</td>\n",
       "      <td>242.000000</td>\n",
       "      <td>311.000000</td>\n",
       "    </tr>\n",
       "    <tr>\n",
       "      <th>mean</th>\n",
       "      <td>348.308360</td>\n",
       "      <td>529.276527</td>\n",
       "      <td>290.894920</td>\n",
       "      <td>442.154341</td>\n",
       "      <td>210.563554</td>\n",
       "      <td>45.041801</td>\n",
       "    </tr>\n",
       "    <tr>\n",
       "      <th>std</th>\n",
       "      <td>2.173169</td>\n",
       "      <td>53.350521</td>\n",
       "      <td>2.333702</td>\n",
       "      <td>55.026052</td>\n",
       "      <td>1.951919</td>\n",
       "      <td>3.081923</td>\n",
       "    </tr>\n",
       "    <tr>\n",
       "      <th>min</th>\n",
       "      <td>339.150000</td>\n",
       "      <td>431.000000</td>\n",
       "      <td>284.260000</td>\n",
       "      <td>343.000000</td>\n",
       "      <td>205.810000</td>\n",
       "      <td>39.000000</td>\n",
       "    </tr>\n",
       "    <tr>\n",
       "      <th>25%</th>\n",
       "      <td>346.370000</td>\n",
       "      <td>483.500000</td>\n",
       "      <td>288.850000</td>\n",
       "      <td>395.000000</td>\n",
       "      <td>209.830000</td>\n",
       "      <td>41.000000</td>\n",
       "    </tr>\n",
       "    <tr>\n",
       "      <th>50%</th>\n",
       "      <td>348.640000</td>\n",
       "      <td>526.000000</td>\n",
       "      <td>291.000000</td>\n",
       "      <td>442.000000</td>\n",
       "      <td>209.830000</td>\n",
       "      <td>47.000000</td>\n",
       "    </tr>\n",
       "    <tr>\n",
       "      <th>75%</th>\n",
       "      <td>350.220000</td>\n",
       "      <td>576.500000</td>\n",
       "      <td>292.520000</td>\n",
       "      <td>495.000000</td>\n",
       "      <td>211.380000</td>\n",
       "      <td>47.000000</td>\n",
       "    </tr>\n",
       "    <tr>\n",
       "      <th>max</th>\n",
       "      <td>352.280000</td>\n",
       "      <td>614.000000</td>\n",
       "      <td>296.060000</td>\n",
       "      <td>533.000000</td>\n",
       "      <td>216.650000</td>\n",
       "      <td>48.000000</td>\n",
       "    </tr>\n",
       "  </tbody>\n",
       "</table>\n",
       "</div>"
      ],
      "text/plain": [
       "            HighQ      HighQN        MedQ       MedQN        LowQ       LowQN\n",
       "count  311.000000  311.000000  311.000000  311.000000  242.000000  311.000000\n",
       "mean   348.308360  529.276527  290.894920  442.154341  210.563554   45.041801\n",
       "std      2.173169   53.350521    2.333702   55.026052    1.951919    3.081923\n",
       "min    339.150000  431.000000  284.260000  343.000000  205.810000   39.000000\n",
       "25%    346.370000  483.500000  288.850000  395.000000  209.830000   41.000000\n",
       "50%    348.640000  526.000000  291.000000  442.000000  209.830000   47.000000\n",
       "75%    350.220000  576.500000  292.520000  495.000000  211.380000   47.000000\n",
       "max    352.280000  614.000000  296.060000  533.000000  216.650000   48.000000"
      ]
     },
     "execution_count": 328,
     "metadata": {},
     "output_type": "execute_result"
    }
   ],
   "source": [
    "dcf = df.loc['District of Columbia'][(df.loc['District of Columbia']['date'] < '2014-11-04') ]\n",
    "dcf.describe()"
   ]
  },
  {
   "cell_type": "code",
   "execution_count": 329,
   "metadata": {
    "collapsed": false
   },
   "outputs": [
    {
     "data": {
      "text/html": [
       "<div style=\"max-height:1000px;max-width:1500px;overflow:auto;\">\n",
       "<table border=\"1\" class=\"dataframe\">\n",
       "  <thead>\n",
       "    <tr style=\"text-align: right;\">\n",
       "      <th></th>\n",
       "      <th>HighQ</th>\n",
       "      <th>HighQN</th>\n",
       "      <th>MedQ</th>\n",
       "      <th>MedQN</th>\n",
       "      <th>LowQ</th>\n",
       "      <th>LowQN</th>\n",
       "    </tr>\n",
       "  </thead>\n",
       "  <tbody>\n",
       "    <tr>\n",
       "      <th>count</th>\n",
       "      <td>137.000000</td>\n",
       "      <td>137.000000</td>\n",
       "      <td>137.000000</td>\n",
       "      <td>137.000000</td>\n",
       "      <td>0</td>\n",
       "      <td>137.000000</td>\n",
       "    </tr>\n",
       "    <tr>\n",
       "      <th>mean</th>\n",
       "      <td>347.872774</td>\n",
       "      <td>678.781022</td>\n",
       "      <td>282.278175</td>\n",
       "      <td>613.540146</td>\n",
       "      <td>NaN</td>\n",
       "      <td>50.072993</td>\n",
       "    </tr>\n",
       "    <tr>\n",
       "      <th>std</th>\n",
       "      <td>1.481656</td>\n",
       "      <td>46.465312</td>\n",
       "      <td>0.928332</td>\n",
       "      <td>64.200400</td>\n",
       "      <td>NaN</td>\n",
       "      <td>2.147622</td>\n",
       "    </tr>\n",
       "    <tr>\n",
       "      <th>min</th>\n",
       "      <td>345.010000</td>\n",
       "      <td>620.000000</td>\n",
       "      <td>280.500000</td>\n",
       "      <td>539.000000</td>\n",
       "      <td>NaN</td>\n",
       "      <td>48.000000</td>\n",
       "    </tr>\n",
       "    <tr>\n",
       "      <th>25%</th>\n",
       "      <td>347.690000</td>\n",
       "      <td>645.000000</td>\n",
       "      <td>281.830000</td>\n",
       "      <td>567.000000</td>\n",
       "      <td>NaN</td>\n",
       "      <td>49.000000</td>\n",
       "    </tr>\n",
       "    <tr>\n",
       "      <th>50%</th>\n",
       "      <td>348.470000</td>\n",
       "      <td>663.000000</td>\n",
       "      <td>282.100000</td>\n",
       "      <td>589.000000</td>\n",
       "      <td>NaN</td>\n",
       "      <td>49.000000</td>\n",
       "    </tr>\n",
       "    <tr>\n",
       "      <th>75%</th>\n",
       "      <td>348.860000</td>\n",
       "      <td>687.000000</td>\n",
       "      <td>282.550000</td>\n",
       "      <td>626.000000</td>\n",
       "      <td>NaN</td>\n",
       "      <td>50.000000</td>\n",
       "    </tr>\n",
       "    <tr>\n",
       "      <th>max</th>\n",
       "      <td>349.850000</td>\n",
       "      <td>764.000000</td>\n",
       "      <td>286.990000</td>\n",
       "      <td>729.000000</td>\n",
       "      <td>NaN</td>\n",
       "      <td>54.000000</td>\n",
       "    </tr>\n",
       "  </tbody>\n",
       "</table>\n",
       "</div>"
      ],
      "text/plain": [
       "            HighQ      HighQN        MedQ       MedQN  LowQ       LowQN\n",
       "count  137.000000  137.000000  137.000000  137.000000     0  137.000000\n",
       "mean   347.872774  678.781022  282.278175  613.540146   NaN   50.072993\n",
       "std      1.481656   46.465312    0.928332   64.200400   NaN    2.147622\n",
       "min    345.010000  620.000000  280.500000  539.000000   NaN   48.000000\n",
       "25%    347.690000  645.000000  281.830000  567.000000   NaN   49.000000\n",
       "50%    348.470000  663.000000  282.100000  589.000000   NaN   49.000000\n",
       "75%    348.860000  687.000000  282.550000  626.000000   NaN   50.000000\n",
       "max    349.850000  764.000000  286.990000  729.000000   NaN   54.000000"
      ]
     },
     "execution_count": 329,
     "metadata": {},
     "output_type": "execute_result"
    }
   ],
   "source": [
    "dacf = df.loc['District of Columbia'][(df.loc['District of Columbia']['date'] > '2014-11-04') ]\n",
    "dacf.describe()"
   ]
  },
  {
   "cell_type": "code",
   "execution_count": 330,
   "metadata": {
    "collapsed": false
   },
   "outputs": [
    {
     "data": {
      "text/html": [
       "<div style=\"max-height:1000px;max-width:1500px;overflow:auto;\">\n",
       "<table border=\"1\" class=\"dataframe\">\n",
       "  <thead>\n",
       "    <tr style=\"text-align: right;\">\n",
       "      <th></th>\n",
       "      <th>HighQ</th>\n",
       "      <th>HighQN</th>\n",
       "      <th>MedQ</th>\n",
       "      <th>MedQN</th>\n",
       "      <th>LowQ</th>\n",
       "      <th>LowQN</th>\n",
       "    </tr>\n",
       "  </thead>\n",
       "  <tbody>\n",
       "    <tr>\n",
       "      <th>count</th>\n",
       "      <td>137.000000</td>\n",
       "      <td>137.000000</td>\n",
       "      <td>137.000000</td>\n",
       "      <td>137.000000</td>\n",
       "      <td>0</td>\n",
       "      <td>137.000000</td>\n",
       "    </tr>\n",
       "    <tr>\n",
       "      <th>mean</th>\n",
       "      <td>243.456715</td>\n",
       "      <td>16901.036496</td>\n",
       "      <td>189.319051</td>\n",
       "      <td>19704.693431</td>\n",
       "      <td>NaN</td>\n",
       "      <td>1120.197080</td>\n",
       "    </tr>\n",
       "    <tr>\n",
       "      <th>std</th>\n",
       "      <td>0.998957</td>\n",
       "      <td>892.047804</td>\n",
       "      <td>0.828273</td>\n",
       "      <td>1350.024665</td>\n",
       "      <td>NaN</td>\n",
       "      <td>65.682373</td>\n",
       "    </tr>\n",
       "    <tr>\n",
       "      <th>min</th>\n",
       "      <td>241.840000</td>\n",
       "      <td>15752.000000</td>\n",
       "      <td>187.850000</td>\n",
       "      <td>17871.000000</td>\n",
       "      <td>NaN</td>\n",
       "      <td>1029.000000</td>\n",
       "    </tr>\n",
       "    <tr>\n",
       "      <th>25%</th>\n",
       "      <td>242.930000</td>\n",
       "      <td>16231.000000</td>\n",
       "      <td>188.870000</td>\n",
       "      <td>18662.000000</td>\n",
       "      <td>NaN</td>\n",
       "      <td>1069.000000</td>\n",
       "    </tr>\n",
       "    <tr>\n",
       "      <th>50%</th>\n",
       "      <td>243.680000</td>\n",
       "      <td>16646.000000</td>\n",
       "      <td>189.210000</td>\n",
       "      <td>19378.000000</td>\n",
       "      <td>NaN</td>\n",
       "      <td>1106.000000</td>\n",
       "    </tr>\n",
       "    <tr>\n",
       "      <th>75%</th>\n",
       "      <td>244.150000</td>\n",
       "      <td>17092.000000</td>\n",
       "      <td>190.110000</td>\n",
       "      <td>20015.000000</td>\n",
       "      <td>NaN</td>\n",
       "      <td>1138.000000</td>\n",
       "    </tr>\n",
       "    <tr>\n",
       "      <th>max</th>\n",
       "      <td>244.940000</td>\n",
       "      <td>18492.000000</td>\n",
       "      <td>190.830000</td>\n",
       "      <td>22027.000000</td>\n",
       "      <td>NaN</td>\n",
       "      <td>1232.000000</td>\n",
       "    </tr>\n",
       "  </tbody>\n",
       "</table>\n",
       "</div>"
      ],
      "text/plain": [
       "            HighQ        HighQN        MedQ         MedQN  LowQ        LowQN\n",
       "count  137.000000    137.000000  137.000000    137.000000     0   137.000000\n",
       "mean   243.456715  16901.036496  189.319051  19704.693431   NaN  1120.197080\n",
       "std      0.998957    892.047804    0.828273   1350.024665   NaN    65.682373\n",
       "min    241.840000  15752.000000  187.850000  17871.000000   NaN  1029.000000\n",
       "25%    242.930000  16231.000000  188.870000  18662.000000   NaN  1069.000000\n",
       "50%    243.680000  16646.000000  189.210000  19378.000000   NaN  1106.000000\n",
       "75%    244.150000  17092.000000  190.110000  20015.000000   NaN  1138.000000\n",
       "max    244.940000  18492.000000  190.830000  22027.000000   NaN  1232.000000"
      ]
     },
     "execution_count": 330,
     "metadata": {},
     "output_type": "execute_result"
    }
   ],
   "source": [
    "calicf = df.loc['California'][(df.loc['California']['date'] > '2014-11-04') ]\n",
    "calicf.describe()"
   ]
  },
  {
   "cell_type": "code",
   "execution_count": 331,
   "metadata": {
    "collapsed": false
   },
   "outputs": [
    {
     "data": {
      "text/html": [
       "<div style=\"max-height:1000px;max-width:1500px;overflow:auto;\">\n",
       "<table border=\"1\" class=\"dataframe\">\n",
       "  <thead>\n",
       "    <tr style=\"text-align: right;\">\n",
       "      <th></th>\n",
       "      <th>HighQ</th>\n",
       "      <th>HighQN</th>\n",
       "      <th>MedQ</th>\n",
       "      <th>MedQN</th>\n",
       "      <th>LowQ</th>\n",
       "      <th>LowQN</th>\n",
       "    </tr>\n",
       "  </thead>\n",
       "  <tbody>\n",
       "    <tr>\n",
       "      <th>count</th>\n",
       "      <td>311.000000</td>\n",
       "      <td>311.000000</td>\n",
       "      <td>311.000000</td>\n",
       "      <td>311.000000</td>\n",
       "      <td>242.000000</td>\n",
       "      <td>311.000000</td>\n",
       "    </tr>\n",
       "    <tr>\n",
       "      <th>mean</th>\n",
       "      <td>246.222765</td>\n",
       "      <td>14083.790997</td>\n",
       "      <td>192.129100</td>\n",
       "      <td>15473.517685</td>\n",
       "      <td>190.795992</td>\n",
       "      <td>912.739550</td>\n",
       "    </tr>\n",
       "    <tr>\n",
       "      <th>std</th>\n",
       "      <td>1.234917</td>\n",
       "      <td>1085.216014</td>\n",
       "      <td>0.795382</td>\n",
       "      <td>1505.169027</td>\n",
       "      <td>1.586186</td>\n",
       "      <td>76.095396</td>\n",
       "    </tr>\n",
       "    <tr>\n",
       "      <th>min</th>\n",
       "      <td>244.940000</td>\n",
       "      <td>12021.000000</td>\n",
       "      <td>190.820000</td>\n",
       "      <td>12724.000000</td>\n",
       "      <td>187.830000</td>\n",
       "      <td>770.000000</td>\n",
       "    </tr>\n",
       "    <tr>\n",
       "      <th>25%</th>\n",
       "      <td>245.190000</td>\n",
       "      <td>13189.000000</td>\n",
       "      <td>191.530000</td>\n",
       "      <td>14162.500000</td>\n",
       "      <td>189.420000</td>\n",
       "      <td>845.500000</td>\n",
       "    </tr>\n",
       "    <tr>\n",
       "      <th>50%</th>\n",
       "      <td>245.710000</td>\n",
       "      <td>14157.000000</td>\n",
       "      <td>192.010000</td>\n",
       "      <td>15561.000000</td>\n",
       "      <td>191.075000</td>\n",
       "      <td>929.000000</td>\n",
       "    </tr>\n",
       "    <tr>\n",
       "      <th>75%</th>\n",
       "      <td>246.980000</td>\n",
       "      <td>15143.000000</td>\n",
       "      <td>192.900000</td>\n",
       "      <td>16923.500000</td>\n",
       "      <td>192.200000</td>\n",
       "      <td>989.000000</td>\n",
       "    </tr>\n",
       "    <tr>\n",
       "      <th>max</th>\n",
       "      <td>248.820000</td>\n",
       "      <td>15720.000000</td>\n",
       "      <td>193.630000</td>\n",
       "      <td>17815.000000</td>\n",
       "      <td>193.880000</td>\n",
       "      <td>1026.000000</td>\n",
       "    </tr>\n",
       "  </tbody>\n",
       "</table>\n",
       "</div>"
      ],
      "text/plain": [
       "            HighQ        HighQN        MedQ         MedQN        LowQ  \\\n",
       "count  311.000000    311.000000  311.000000    311.000000  242.000000   \n",
       "mean   246.222765  14083.790997  192.129100  15473.517685  190.795992   \n",
       "std      1.234917   1085.216014    0.795382   1505.169027    1.586186   \n",
       "min    244.940000  12021.000000  190.820000  12724.000000  187.830000   \n",
       "25%    245.190000  13189.000000  191.530000  14162.500000  189.420000   \n",
       "50%    245.710000  14157.000000  192.010000  15561.000000  191.075000   \n",
       "75%    246.980000  15143.000000  192.900000  16923.500000  192.200000   \n",
       "max    248.820000  15720.000000  193.630000  17815.000000  193.880000   \n",
       "\n",
       "             LowQN  \n",
       "count   311.000000  \n",
       "mean    912.739550  \n",
       "std      76.095396  \n",
       "min     770.000000  \n",
       "25%     845.500000  \n",
       "50%     929.000000  \n",
       "75%     989.000000  \n",
       "max    1026.000000  "
      ]
     },
     "execution_count": 331,
     "metadata": {},
     "output_type": "execute_result"
    }
   ],
   "source": [
    "calicf = df.loc['California'][(df.loc['California']['date'] < '2014-11-04') ]\n",
    "calicf.describe()"
   ]
  },
  {
   "cell_type": "markdown",
   "metadata": {},
   "source": [
    "<h5> Insights from the above analysis: </h5>\n",
    "    \n",
    "   * Price went up in Alaska after regularization. \n",
    "   * But reduced in other districts.\n",
    "   * People buying increased in all districts."
   ]
  },
  {
   "cell_type": "markdown",
   "metadata": {},
   "source": [
    "<h2> Hypothesis Testing </h2>"
   ]
  },
  {
   "cell_type": "code",
   "execution_count": 332,
   "metadata": {
    "collapsed": false
   },
   "outputs": [
    {
     "data": {
      "text/plain": [
       "(0.042228887044626462, 0.15865525393145707, 0.99671225596586954)"
      ]
     },
     "execution_count": 332,
     "metadata": {},
     "output_type": "execute_result"
    }
   ],
   "source": [
    "sf = DataFrame.from_csv('Weed_Price.csv')\n",
    "#sf = wp[wp['LowQ'] > 0]\n",
    "\n",
    "# function to calculate the sum of weed data\n",
    "def sumOfHighQualityWeedPrice(array):\n",
    "    sum = 0.0\n",
    "    for i in array:\n",
    "        sum = sum + i\n",
    "    return sum\n",
    "\n",
    "# Alaska before november\n",
    "alaska_data_below_november = sf[sf['date'] < '2014-11-02']\n",
    "alaska_data = np.array(alaska_data_below_november.loc['Alaska']['HighQ'])\n",
    "alaska_data_size = len(alaska_data)\n",
    "alaska_high_quality_weed_price_mean_before_november = sumOfHighQualityWeedPrice(alaska_data)/alaska_data_size\n",
    "\n",
    "# Alaska after november\n",
    "alaska_data_after_november = sf[sf['date'] > '2014-11-02']\n",
    "alaska_after_nov_data = np.array(alaska_data_after_november.loc['Alaska']['HighQ'])\n",
    "alaska_after_nov_data_size = len(alaska_after_nov_data)\n",
    "alaska_high_quality_weed_price_mean_after_november = sumOfHighQualityWeedPrice(alaska_after_nov_data)/alaska_after_nov_data_size\n",
    "\n",
    "oregon_data_below_november = sf[sf['date'] < '2014-11-04']\n",
    "oregon_data = np.array(oregon_data_below_november.loc['Oregon']['HighQ'])\n",
    "oregon_data_size = len(oregon_data)\n",
    "oregon_high_quality_weed_price_mean_before_november = sumOfHighQualityWeedPrice(oregon_data)/oregon_data_size\n",
    "\n",
    "oregon_data_after_november = sf[sf['date'] > '2014-11-04']\n",
    "oregon_after_data = np.array(oregon_data_after_november.loc['Oregon']['HighQ'])\n",
    "oregon_after_data_size = len(oregon_after_data)\n",
    "oregon_high_quality_weed_price_mean_after_november = sumOfHighQualityWeedPrice(oregon_after_data)/oregon_after_data_size\n",
    "\n",
    "# District of Columbia\n",
    "dc_data_below_november = sf[sf['date'] < '2014-11-04']\n",
    "dc_data = np.array(dc_data_below_november.loc['District of Columbia']['HighQ'])\n",
    "dc_data_size = len(dc_data)\n",
    "dc_high_quality_weed_price_mean_before_november = sumOfHighQualityWeedPrice(dc_data)/dc_data_size\n",
    "\n",
    "dc_data_after_november = sf[sf['date'] > '2014-11-04']\n",
    "dc_after_data = np.array(dc_data_after_november.loc['District of Columbia']['HighQ'])\n",
    "dc_after_data_size = len(dc_after_data)\n",
    "dc_high_quality_weed_price_mean_after_november = sumOfHighQualityWeedPrice(dc_after_data)/dc_after_data_size\n",
    "\n",
    "# means for before november data for alaska, oregon, District of Columbia\n",
    "# make a table for these data\n",
    "# TODO: Check if the data passes requirements for z-test\n",
    "# increase in alaska weed price after regularization (1% increase).\n",
    "\n",
    "# Since we want to check if the price of the weed went down, this is one-tailed hypothesis test\n",
    "# The z-test\n",
    "(oregon_high_quality_weed_price_mean_after_november - oregon_high_quality_weed_price_mean_before_november)/1.727567\n",
    "oregon_stats = 1 - stats.norm.cdf(-2.7176120801038213)\n",
    "oregon_stats #p-value > 0.1: There is little or no evidence against H0\n",
    "\n",
    "# DC Z-TEST\n",
    "(dc_high_quality_weed_price_mean_after_november - dc_high_quality_weed_price_mean_before_november)/1.481656\n",
    "dc_stats = 1 - stats.norm.cdf(1.0)\n",
    "dc_stats #p-value > 0.1: There is little or no evidence against H0\n",
    "\n",
    "# Alaska Z-TEST\n",
    "(alaska_high_quality_weed_price_mean_after_november - alaska_high_quality_weed_price_mean_before_november)/5.459218\n",
    "alaska_stats = 1 - stats.norm.cdf(1.7253868802786354) # 0.01 < p-value < 0.05: There is strong evidence against H0\n",
    "alaska_stats, dc_stats, oregon_stats\n",
    "\n",
    "# For the first two null hypothesis holds true. \n",
    "# For Alaska, null hypothesis is rejected as the p-value is less than 0.05\n",
    "\n",
    "#So, find the value where alaska will agree with the null hypothesis\n",
    "\n",
    "# GET STANDARD DEVIATIONS\n",
    "#oregon_data_after_november.loc['Oregon']['HighQ'].describe()\n",
    "#dc_data_after_november.loc['District of Columbia']['HighQ'].describe()\n",
    "#alaska_data_after_november.loc['Alaska']['HighQ'].describe()\n",
    "\n"
   ]
  },
  {
   "cell_type": "markdown",
   "metadata": {},
   "source": [
    "<h2> T-tests for hypothesis testing: </h2>"
   ]
  },
  {
   "cell_type": "code",
   "execution_count": 333,
   "metadata": {
    "collapsed": false
   },
   "outputs": [
    {
     "data": {
      "text/plain": [
       "(2.1368196148483887, 0.03315614856932287)"
      ]
     },
     "execution_count": 333,
     "metadata": {},
     "output_type": "execute_result"
    }
   ],
   "source": [
    "# t-test for indepdence btw two categories in dataset\n",
    "\n",
    "from scipy.stats import ttest_ind\n",
    "\n",
    "cat1 = alaska_data_below_november.loc['Alaska']\n",
    "cat2 = alaska_data_after_november.loc['Alaska']\n",
    "#(-26.401039029301675, 3.4667367833940785e-93)\n",
    "\n",
    "cat1 = oregon_data_below_november.loc['Oregon']\n",
    "cat2 = oregon_data_after_november.loc['Oregon']\n",
    "#(26.914061651283518, 1.7639735830507177e-95)\n",
    "\n",
    "cat1 = dc_data_below_november.loc['District of Columbia']\n",
    "cat2 = dc_data_after_november.loc['District of Columbia']\n",
    "ttest_ind(cat1['HighQ'], cat2['HighQ'])\n",
    "#(2.1368196148483887, 0.03315614856932287)\n",
    "\n",
    "# US AVERAGE WEED PRICE = 286.35$"
   ]
  },
  {
   "cell_type": "markdown",
   "metadata": {},
   "source": [
    "<h2> T-Test to test whether means of two populations are significantly different from each other (unpaired data)</h2>\n",
    "\n",
    "Let us test for \"Is there a difference in High Quality Weed prices after regularization ?\""
   ]
  },
  {
   "cell_type": "code",
   "execution_count": 334,
   "metadata": {
    "collapsed": false
   },
   "outputs": [
    {
     "data": {
      "text/plain": [
       "(4.3041192383825368, 29.58864552559384)"
      ]
     },
     "execution_count": 334,
     "metadata": {},
     "output_type": "execute_result"
    }
   ],
   "source": [
    "# Mean for alaska before regularization\n",
    "x1 = alaska_high_quality_weed_price_mean_before_november\n",
    "\n",
    "# Mean for alaska after regularization\n",
    "x2 = alaska_high_quality_weed_price_mean_after_november\n",
    "\n",
    "# Let us compare the variance of each population\n",
    "# Let s1 be the variance for alaska before regularization\n",
    "variance1 = np.var(alaska_data)\n",
    "\n",
    "# Let s2 be the variance for alaska after regualarization\n",
    "variance2 = np.var(alaska_after_nov_data)\n",
    "\n",
    "# Comparing tells us that the variance is un-equal\n",
    "variance1,variance2"
   ]
  },
  {
   "cell_type": "markdown",
   "metadata": {},
   "source": [
    "* T-statistic for comparing two means of paired data (independent) is given by:\n",
    "\n",
    "$$t = (x1-x2) / \\sqrt{(s1^2/n1) + (s2^2/n2)}$$"
   ]
  },
  {
   "cell_type": "code",
   "execution_count": 343,
   "metadata": {
    "collapsed": false
   },
   "outputs": [
    {
     "name": "stdout",
     "output_type": "stream",
     "text": [
      "FOR Alaska:\n",
      "----------\n",
      "degrees of freedom for alaska is: 170\n",
      "t-statistic for alaska is: -19.7787180634\n",
      "The P-Value is < 0.00001. The result is significant at p < 0.05\n",
      "The P-Value is < 0.00001. The result is significant at p < 0.01\n",
      " \n",
      " \n",
      "FOR DC\n",
      "------\n",
      "degrees of freedom for DC is: 174\n",
      "t-statistic for DC is: 2.47222088427\n",
      "The P-Value is 0.013525. The result is significant at p < 0.05\n",
      "The P-Value is 0.013525. The result is not significant at p < 0.01.\n",
      " \n",
      " \n",
      "FOR Oregon:\n",
      "-----------\n",
      "degrees of freedom for Oregon is: 174\n",
      "t-statistic for Oregon is: 26.762901661\n",
      " \n",
      "The P-Value is < 0.00001. The result is significant at p < 0.05\n",
      "The P-Value is < 0.00001. The result is significant at p < 0.01\n",
      " \n",
      " \n",
      "------\n",
      "The Null hypothesis H0 that there is no difference btw means of populations is rejected at level 1%\n",
      "But, there is some price change at significance level of 5% when price is regularized for DC data at 5%.\n",
      "Here, we reject the null hypothesis H0 in favor of alternative hypothesis that there is statistical difference HA\n"
     ]
    }
   ],
   "source": [
    "n1 = alaska_data_size\n",
    "n2 = alaska_after_nov_data_size\n",
    "\n",
    "def calculateTStatistics(mean1,mean2,var1,var2,samplesize1,samplesize2):\n",
    "    t = (mean1-mean2)/np.sqrt(((var1)/samplesize1) + ((var2)/samplesize2))\n",
    "    return t\n",
    "\n",
    "df1 = alaska_data_size-1\n",
    "df2 = alaska_after_nov_data_size- 1\n",
    "\n",
    "t = calculateTStatistics(x1, x2, variance1, variance2, n1, n2)\n",
    "print \"FOR Alaska:\"\n",
    "print \"----------\"\n",
    "print \"degrees of freedom for alaska is:\", df1 - df2\n",
    "print \"t-statistic for alaska is:\", t\n",
    "print \"The P-Value is < 0.00001. The result is significant at p < 0.05\"\n",
    "print \"The P-Value is < 0.00001. The result is significant at p < 0.01\"\n",
    "print \" \"\n",
    "\n",
    "\n",
    "# Let us do this for DC data\n",
    "\n",
    "xdf1 = dc_data_size-1\n",
    "xdf2 = dc_after_data_size- 1\n",
    "dcn1 = dc_data_size\n",
    "dcn2 = dc_after_data_size\n",
    "\n",
    "# Mean for alaska before regularization\n",
    "dcx1 = dc_high_quality_weed_price_mean_before_november\n",
    "\n",
    "# Mean for alaska after regularization\n",
    "dcx2 = dc_high_quality_weed_price_mean_after_november\n",
    "\n",
    "# Let us compare the variance of each population\n",
    "# Let s1 be the variance for alaska before regularization\n",
    "dvariance1 = np.var(dc_data)\n",
    "\n",
    "# Let s2 be the variance for alaska after regualarization\n",
    "dvariance2 = np.var(dc_after_data)\n",
    "\n",
    "dc_t = calculateTStatistics(dcx1, dcx2, dvariance1, dvariance2, dcn1, dcn2)\n",
    "print \" \"\n",
    "print \"FOR DC\"\n",
    "print \"------\"\n",
    "print \"degrees of freedom for DC is:\", xdf1 - xdf2\n",
    "print \"t-statistic for DC is:\", dc_t\n",
    "print \"The P-Value is 0.013525. The result is significant at p < 0.05\"\n",
    "print \"The P-Value is 0.013525. The result is not significant at p < 0.01.\"\n",
    "print \" \"\n",
    "print \" \"\n",
    "# Oregon data\n",
    "\n",
    "odf1 = oregon_data_size-1\n",
    "odf2 = oregon_after_data_size- 1\n",
    "on1 = oregon_data_size\n",
    "on2 = oregon_after_data_size\n",
    "\n",
    "# Mean for alaska before regularization\n",
    "ox1 = oregon_high_quality_weed_price_mean_before_november\n",
    "\n",
    "# Mean for alaska after regularization\n",
    "ox2 = oregon_high_quality_weed_price_mean_after_november\n",
    "\n",
    "# Let us compare the variance of each population\n",
    "# Let s1 be the variance for alaska before regularization\n",
    "ovariance1 = np.var(oregon_data)\n",
    "\n",
    "# Let s2 be the variance for alaska after regualarization\n",
    "ovariance2 = np.var(oregon_after_data)\n",
    "\n",
    "o_t = calculateTStatistics(ox1, ox2, ovariance1, ovariance2, on1, on2)\n",
    "\n",
    "print \"FOR Oregon:\"\n",
    "print \"-----------\"\n",
    "print \"degrees of freedom for Oregon is:\", odf1 - odf2\n",
    "print \"t-statistic for Oregon is:\", o_t\n",
    "print \" \"\n",
    "\n",
    "print \"The P-Value is < 0.00001. The result is significant at p < 0.05\"\n",
    "print \"The P-Value is < 0.00001. The result is significant at p < 0.01\"\n",
    "print \" \"\n",
    "print \" \"\n",
    "print \"------\"\n",
    "print \"The Null hypothesis H0 that there is no difference btw means of populations is rejected at level 1%\"\n",
    "print \"But, there is some price change at significance level of 5% when price is regularized for DC data at 5%.\"\n",
    "print \"Here, we reject the null hypothesis H0 in favor of alternative hypothesis that there is statistical difference HA\""
   ]
  },
  {
   "cell_type": "markdown",
   "metadata": {},
   "source": [
    "<h2> Something to think about: Which of these give smaller p-values ? </h2>\n",
    "   \n",
    "   * Smaller effect size\n",
    "   * Smaller standard error\n",
    "   * Smaller sample size\n",
    "   * Higher variance\n",
    "   \n",
    "   Answer: A smaller standard-error"
   ]
  },
  {
   "cell_type": "markdown",
   "metadata": {},
   "source": [
    "<h2> Chi-Square Testing </h2>"
   ]
  },
  {
   "cell_type": "markdown",
   "metadata": {},
   "source": [
    "* Chi-Square testing is used to conduct hypothesis testing on categorial variables data.\n",
    "\n",
    "In year 2014, so many number of ppl bought low quality, mid quality and highly quality weed. Some NGO took action to educate ppl to buy high quality weed. \n",
    "\n",
    "In 2015, we see the numbers (Sum up total number of ppl bought for each of those three categories for both the years). And figure out if response is valid or not."
   ]
  },
  {
   "cell_type": "markdown",
   "metadata": {},
   "source": [
    "* TODO: What is a chi-square distribution."
   ]
  },
  {
   "cell_type": "markdown",
   "metadata": {},
   "source": [
    "<h2> Chi-Square test for goodness fit </h2>"
   ]
  },
  {
   "cell_type": "markdown",
   "metadata": {},
   "source": [
    "$$ X^2 = \\sum (O - E)^2/E $$\n",
    "\n",
    "* O is observed frequency\n",
    "* E is expected frequency\n",
    "* X is the chi-square statistic"
   ]
  },
  {
   "cell_type": "code",
   "execution_count": 400,
   "metadata": {
    "collapsed": false
   },
   "outputs": [
    {
     "data": {
      "text/plain": [
       "count    364.000000\n",
       "mean     310.491758\n",
       "std       27.235782\n",
       "min      252.000000\n",
       "25%      286.000000\n",
       "50%      316.500000\n",
       "75%      331.000000\n",
       "max      350.000000\n",
       "Name: HighQN, dtype: float64"
      ]
     },
     "execution_count": 400,
     "metadata": {},
     "output_type": "execute_result"
    }
   ],
   "source": [
    "sf = DataFrame.from_csv('Weed_Price.csv')\n",
    "# number of people who brought high quality weed in Alaska in 2014\n",
    "alaska_data_in_2014 = sf[sf['date'] < '2015-01-01']\n",
    "alaska_data_filtered_2014 = alaska_data_in_2014[alaska_data_in_2014['date'] > '2013-12-31']\n",
    "alaska_14_numbers = np.array(alaska_data_filtered_2014.loc['Alaska']['HighQN'])\n",
    "alaska_data_filtered_2014.loc['Alaska']['HighQN'].describe()\n"
   ]
  },
  {
   "cell_type": "code",
   "execution_count": 401,
   "metadata": {
    "collapsed": false
   },
   "outputs": [
    {
     "data": {
      "text/plain": [
       "count    364.000000\n",
       "mean      31.074176\n",
       "std        4.159690\n",
       "min       26.000000\n",
       "25%       26.000000\n",
       "50%       32.000000\n",
       "75%       34.000000\n",
       "max       37.000000\n",
       "Name: LowQN, dtype: float64"
      ]
     },
     "execution_count": 401,
     "metadata": {},
     "output_type": "execute_result"
    }
   ],
   "source": [
    "# number of people who brought low quality weed in Alaska in 2014\n",
    "alaska_low_14_numbers = np.array(alaska_data_filtered_2014.loc['Alaska']['LowQN'])\n",
    "alaska_data_filtered_2014.loc['Alaska']['LowQN'].describe()\n"
   ]
  },
  {
   "cell_type": "code",
   "execution_count": 386,
   "metadata": {
    "collapsed": false
   },
   "outputs": [
    {
     "data": {
      "text/plain": [
       "count     80.000000\n",
       "mean     374.500000\n",
       "std       22.629095\n",
       "min      350.000000\n",
       "25%      355.000000\n",
       "50%      363.000000\n",
       "75%      398.750000\n",
       "max      406.000000\n",
       "Name: HighQN, dtype: float64"
      ]
     },
     "execution_count": 386,
     "metadata": {},
     "output_type": "execute_result"
    }
   ],
   "source": [
    "# number of people who brought high quality weed in Alaska in 2015\n",
    "alaska_data_in_2015 = sf[sf['date'] > '2014-12-31']\n",
    "alaska_high_15_numbers = np.array(alaska_data_in_2015.loc['Alaska']['HighQN'])\n",
    "alaska_data_in_2015.loc['Alaska']['HighQN'].describe()\n"
   ]
  },
  {
   "cell_type": "code",
   "execution_count": 402,
   "metadata": {
    "collapsed": false
   },
   "outputs": [
    {
     "data": {
      "text/plain": [
       "count    80.000000\n",
       "mean     38.462500\n",
       "std       1.855159\n",
       "min      37.000000\n",
       "25%      37.000000\n",
       "50%      37.000000\n",
       "75%      41.000000\n",
       "max      41.000000\n",
       "Name: LowQN, dtype: float64"
      ]
     },
     "execution_count": 402,
     "metadata": {},
     "output_type": "execute_result"
    }
   ],
   "source": [
    "# number of people who brought low quality weed in Alaska in 2015\n",
    "alaska_data_in_2015 = sf[sf['date'] > '2014-12-31']\n",
    "alaska_low_15_numbers = np.array(alaska_data_in_2015.loc['Alaska']['LowQN'])\n",
    "alaska_data_in_2015.loc['Alaska']['LowQN'].describe()\n"
   ]
  },
  {
   "cell_type": "code",
   "execution_count": 399,
   "metadata": {
    "collapsed": false
   },
   "outputs": [
    {
     "data": {
      "text/plain": [
       "((108.02136181575435, 0.01674509201460693), (4701.1935914552741, 0.0))"
      ]
     },
     "execution_count": 399,
     "metadata": {},
     "output_type": "execute_result"
    }
   ],
   "source": [
    "O = alaska_high_15_numbers\n",
    "\n",
    "len(O)\n",
    "np.mean(O)\n",
    "\n",
    "l = [0] * len(O)\n",
    "e = np.array(l)\n",
    "e = e + 374.5\n",
    "\n",
    "chi_test_2015 = scipy.stats.chisquare(O,e)\n",
    "\n",
    "O = alaska_14_numbers\n",
    "l = [0] * len(O)\n",
    "e = np.array(l)\n",
    "e = e + 374.5\n",
    "\n",
    "chi_test_2014 = scipy.stats.chisquare(O,e)\n",
    "\n",
    "chi_test_2015, chi_test_2014"
   ]
  },
  {
   "cell_type": "code",
   "execution_count": 406,
   "metadata": {
    "collapsed": false
   },
   "outputs": [
    {
     "data": {
      "text/plain": [
       "((7.0693707748309933, 1.0), (679.598086323453, 1.6115618694114632e-21))"
      ]
     },
     "execution_count": 406,
     "metadata": {},
     "output_type": "execute_result"
    }
   ],
   "source": [
    "O = alaska_low_15_numbers\n",
    "\n",
    "len(O)\n",
    "np.mean(O)\n",
    "\n",
    "l = [0] * len(O)\n",
    "e = np.array(l)\n",
    "e = e + 38.46\n",
    "\n",
    "chi_test_low_2015 = scipy.stats.chisquare(O,e)\n",
    "\n",
    "O = alaska_low_14_numbers\n",
    "l = [0] * len(O)\n",
    "e = np.array(l)\n",
    "e = e + 38.46\n",
    "\n",
    "chi_test_low_2014 = scipy.stats.chisquare(O,e)\n",
    "\n",
    "chi_test_low_2015, chi_test_low_2014\n",
    "\n"
   ]
  },
  {
   "cell_type": "markdown",
   "metadata": {},
   "source": [
    "Like this we can find out at which value of price, there was significant effect for each State in 2014 and 2015\n",
    "for different qualities of weed."
   ]
  },
  {
   "cell_type": "code",
   "execution_count": null,
   "metadata": {
    "collapsed": true
   },
   "outputs": [],
   "source": []
  }
 ],
 "metadata": {
  "kernelspec": {
   "display_name": "Python 2",
   "language": "python",
   "name": "python2"
  },
  "language_info": {
   "codemirror_mode": {
    "name": "ipython",
    "version": 2
   },
   "file_extension": ".py",
   "mimetype": "text/x-python",
   "name": "python",
   "nbconvert_exporter": "python",
   "pygments_lexer": "ipython2",
   "version": "2.7.6"
  }
 },
 "nbformat": 4,
 "nbformat_minor": 0
}
